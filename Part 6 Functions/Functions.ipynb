{
 "cells": [
  {
   "cell_type": "markdown",
   "id": "88c49ec6",
   "metadata": {},
   "source": [
    "## Table of contents\n",
    "- [Functions](#functions)\n",
    "    - [Defining a Function](#defining-a-function)\n",
    "    - [Declaring and Calling a Function](#declaring-and-calling-a-function)\n",
    "    - [Function without Parameters](#function-without-parameters)\n",
    "    - [Function Returning a Value - Part 1](#function-returning-a-value---part-1)\n",
    "    - [Function with Parameters](#function-with-parameters)\n",
    "    - [Passing Arguments with Key and Value](#passing-arguments-with-key-and-value)\n",
    "    - [Function Returning a Value - Part 2](#function-returning-a-value---part-2)\n",
    "    - [Function with Default Parameters](#function-with-default-parameters)\n",
    "    - [Arbitrary Number of Arguments](#arbitrary-number-of-arguments)\n",
    "    - [Default and Arbitrary Number of Parameters in Functions](#default-and-arbitrary-number-of-parameters-in-functions)\n",
    "    - [Function as a Parameter of Another Function](#function-as-a-parameter-of-another-function)"
   ]
  },
  {
   "cell_type": "markdown",
   "id": "24bb7fb4",
   "metadata": {},
   "source": [
    "## Functions\n",
    "\n",
    "So far we have seen many built-in Python functions. In this section, we will focus on custom functions. What is a function? Before we start making functions, let us learn what a function is and why we need them?\n",
    "\n",
    "### Defining a Function\n",
    "\n",
    "A function is a reusable block of code or programming statements designed to perform a certain task. To define or declare a function, Python provides the _def_ keyword. The following is the syntax for defining a function. The function block of code is executed only if the function is called or invoked.\n",
    "\n",
    "### Declaring and Calling a Function\n",
    "\n",
    "When we make a function, we call it declaring a function. When we start using the it,  we call it *calling* or *invoking* a function. Function can be declared with or without parameters.\n",
    "\n",
    "```py\n",
    "# syntax\n",
    "# Declaring a function\n",
    "def function_name():\n",
    "    codes\n",
    "    codes\n",
    "# Calling a function\n",
    "function_name()\n",
    "```\n",
    "\n",
    "### Function without Parameters\n",
    "\n",
    "Function can be declared without parameters."
   ]
  },
  {
   "cell_type": "code",
   "execution_count": 3,
   "id": "f33dcfe9",
   "metadata": {},
   "outputs": [],
   "source": [
    "def test1():\n",
    "    print('This is  my first python class')"
   ]
  },
  {
   "cell_type": "code",
   "execution_count": 4,
   "id": "0d0f5c2d",
   "metadata": {},
   "outputs": [
    {
     "name": "stdout",
     "output_type": "stream",
     "text": [
      "This is  my first python class\n"
     ]
    }
   ],
   "source": [
    "test1()"
   ]
  },
  {
   "cell_type": "code",
   "execution_count": 8,
   "id": "6f7b1eb3",
   "metadata": {},
   "outputs": [],
   "source": [
    "def test2():\n",
    "    '''This is the function that show about\n",
    "    my name\n",
    "    ''' \n",
    "    print('My name is Manon')"
   ]
  },
  {
   "cell_type": "code",
   "execution_count": 9,
   "id": "306e37e0",
   "metadata": {},
   "outputs": [
    {
     "name": "stdout",
     "output_type": "stream",
     "text": [
      "My name is Manon\n"
     ]
    }
   ],
   "source": [
    "test2()"
   ]
  },
  {
   "cell_type": "code",
   "execution_count": 10,
   "id": "bb1f56e3",
   "metadata": {},
   "outputs": [],
   "source": [
    "def generate_full_name():\n",
    "    ''''''\n",
    "    first_name = 'Manon'\n",
    "    last_name = 'Ya'\n",
    "    space = ' '\n",
    "    full_name = first_name + space + last_name\n",
    "    print(full_name)"
   ]
  },
  {
   "cell_type": "code",
   "execution_count": 11,
   "id": "0d61d0fd",
   "metadata": {},
   "outputs": [
    {
     "name": "stdout",
     "output_type": "stream",
     "text": [
      "Manon Ya\n"
     ]
    }
   ],
   "source": [
    "generate_full_name()"
   ]
  },
  {
   "cell_type": "code",
   "execution_count": 49,
   "id": "179b85f4",
   "metadata": {},
   "outputs": [],
   "source": [
    "def my_name():\n",
    "    '''This is the function that shown about \n",
    "    my name Manon'''\n",
    "    print('My name is Manon')"
   ]
  },
  {
   "cell_type": "code",
   "execution_count": 50,
   "id": "0ebe4b08",
   "metadata": {},
   "outputs": [
    {
     "name": "stdout",
     "output_type": "stream",
     "text": [
      "My name is Manon\n"
     ]
    }
   ],
   "source": [
    "my_name()"
   ]
  },
  {
   "cell_type": "code",
   "execution_count": 51,
   "id": "2290afae",
   "metadata": {},
   "outputs": [],
   "source": [
    "def generate_full_name():\n",
    "    first_name = 'Manon'\n",
    "    last_name = 'Ya'\n",
    "    space = ' '\n",
    "    full_name = first_name + space + last_name\n",
    "    print(full_name)"
   ]
  },
  {
   "cell_type": "code",
   "execution_count": 52,
   "id": "b62cc8f9",
   "metadata": {},
   "outputs": [
    {
     "name": "stdout",
     "output_type": "stream",
     "text": [
      "Manon Ya\n"
     ]
    }
   ],
   "source": [
    "generate_full_name()"
   ]
  },
  {
   "cell_type": "code",
   "execution_count": 2,
   "id": "24867b7c",
   "metadata": {},
   "outputs": [
    {
     "name": "stdout",
     "output_type": "stream",
     "text": [
      "Manon Ya\n"
     ]
    }
   ],
   "source": [
    "generate_full_name()"
   ]
  },
  {
   "cell_type": "code",
   "execution_count": 13,
   "id": "e6113140",
   "metadata": {},
   "outputs": [
    {
     "name": "stdout",
     "output_type": "stream",
     "text": [
      "5\n"
     ]
    }
   ],
   "source": [
    "def add_two_numbers ():\n",
    "    num_one = 2\n",
    "    num_two = 3\n",
    "    total = num_one + num_two\n",
    "    print(total)\n",
    "add_two_numbers()"
   ]
  },
  {
   "cell_type": "code",
   "execution_count": 15,
   "id": "4ab17047",
   "metadata": {},
   "outputs": [
    {
     "name": "stdout",
     "output_type": "stream",
     "text": [
      "5\n"
     ]
    }
   ],
   "source": [
    "add_two_numbers()"
   ]
  },
  {
   "cell_type": "code",
   "execution_count": 17,
   "id": "4d2b70f3",
   "metadata": {},
   "outputs": [
    {
     "name": "stdout",
     "output_type": "stream",
     "text": [
      "5\n"
     ]
    }
   ],
   "source": [
    "a = add_two_numbers()"
   ]
  },
  {
   "cell_type": "code",
   "execution_count": 21,
   "id": "5807776f",
   "metadata": {},
   "outputs": [
    {
     "name": "stdout",
     "output_type": "stream",
     "text": [
      "Hello!\n",
      "Welcome to Python!\n",
      "Have a nice day!\n"
     ]
    }
   ],
   "source": [
    "def print_messages():\n",
    "    print(\"Hello!\")\n",
    "    print(\"Welcome to Python!\")\n",
    "    print(\"Have a nice day!\")\n",
    "\n",
    "print_messages()\n"
   ]
  },
  {
   "cell_type": "code",
   "execution_count": 27,
   "id": "c0d6d3a9",
   "metadata": {},
   "outputs": [
    {
     "name": "stdout",
     "output_type": "stream",
     "text": [
      "   ***   \n",
      " *     * \n",
      "*       *\n",
      " *     * \n",
      "   ***   \n"
     ]
    }
   ],
   "source": [
    "def print_circle():\n",
    "    print(\"   ***   \")\n",
    "    print(\" *     * \")\n",
    "    print(\"*       *\")\n",
    "    print(\" *     * \")\n",
    "    print(\"   ***   \")\n",
    "\n",
    "print_circle()\n"
   ]
  },
  {
   "cell_type": "code",
   "execution_count": 22,
   "id": "aa5182d4",
   "metadata": {},
   "outputs": [
    {
     "name": "stdout",
     "output_type": "stream",
     "text": [
      " /\\_/\\\n",
      "( o.o )\n",
      " > ^ <\n"
     ]
    }
   ],
   "source": [
    "def print_ascii_art():\n",
    "    print(\" /\\\\_/\\\\\")\n",
    "    print(\"( o.o )\")\n",
    "    print(\" > ^ <\")\n",
    "\n",
    "print_ascii_art()\n"
   ]
  },
  {
   "cell_type": "code",
   "execution_count": 25,
   "id": "6ac82391",
   "metadata": {},
   "outputs": [
    {
     "name": "stdout",
     "output_type": "stream",
     "text": [
      " /\\_/\\\n",
      "( o.o )\n",
      " > ^ <\n"
     ]
    }
   ],
   "source": [
    "print_ascii_art()"
   ]
  },
  {
   "cell_type": "code",
   "execution_count": 28,
   "id": "034ec90d",
   "metadata": {},
   "outputs": [
    {
     "name": "stdout",
     "output_type": "stream",
     "text": [
      "  / \\__\n",
      " (    @\\___\n",
      " /         O\n",
      "/   (_____/\n",
      "/_____/   U\n"
     ]
    }
   ],
   "source": [
    "def print_dog():\n",
    "    print(\"  / \\\\__\")\n",
    "    print(\" (    @\\\\___\")\n",
    "    print(\" /         O\")\n",
    "    print(\"/   (_____/\")\n",
    "    print(\"/_____/   U\")\n",
    "\n",
    "print_dog()\n"
   ]
  },
  {
   "cell_type": "code",
   "execution_count": 23,
   "id": "27689169",
   "metadata": {},
   "outputs": [],
   "source": [
    "def simple_calculator():\n",
    "    num1 = float(input(\"Enter first number: \"))\n",
    "    num2 = float(input(\"Enter second number: \"))\n",
    "    print(\"Sum:\", num1 + num2)\n",
    "    print(\"Difference:\", num1 - num2)\n",
    "    print(\"Product:\", num1 * num2)\n",
    "    print(\"Quotient:\", num1 / num2)"
   ]
  },
  {
   "cell_type": "code",
   "execution_count": 29,
   "id": "d9e80eac",
   "metadata": {},
   "outputs": [
    {
     "name": "stdout",
     "output_type": "stream",
     "text": [
      "Enter first number: 1\n",
      "Enter second number: 2\n",
      "Sum: 3.0\n",
      "Difference: -1.0\n",
      "Product: 2.0\n",
      "Quotient: 0.5\n"
     ]
    }
   ],
   "source": [
    "simple_calculator()"
   ]
  },
  {
   "cell_type": "code",
   "execution_count": 30,
   "id": "300d6646",
   "metadata": {},
   "outputs": [
    {
     "name": "stdout",
     "output_type": "stream",
     "text": [
      "1. Option 1\n",
      "2. Option 2\n",
      "3. Option 3\n",
      "Enter your choice: 1\n",
      "You selected Option 1.\n"
     ]
    }
   ],
   "source": [
    "def user_menu():\n",
    "    print(\"1. Option 1\")\n",
    "    print(\"2. Option 2\")\n",
    "    print(\"3. Option 3\")\n",
    "    choice = int(input(\"Enter your choice: \"))\n",
    "    if choice == 1:\n",
    "        print(\"You selected Option 1.\")\n",
    "    elif choice == 2:\n",
    "        print(\"You selected Option 2.\")\n",
    "    elif choice == 3:\n",
    "        print(\"You selected Option 3.\")\n",
    "    else:\n",
    "        print(\"Invalid choice.\")\n",
    "\n",
    "user_menu()\n"
   ]
  },
  {
   "cell_type": "markdown",
   "id": "faecb7b4",
   "metadata": {},
   "source": [
    "### Function with Parameters\n",
    "\n",
    "In a function we can pass different data types(number, string, boolean, list, tuple, dictionary or set) as a parameter\n",
    "\n",
    "- Single Parameter: If our function takes a parameter we should call our function with an argument\n",
    "\n",
    "```py\n",
    "  # syntax\n",
    "  # Declaring a function\n",
    "  def function_name(parameter):\n",
    "    codes\n",
    "    codes\n",
    "  # Calling function\n",
    "  print(function_name(argument))\n",
    "```"
   ]
  },
  {
   "cell_type": "code",
   "execution_count": 47,
   "id": "086e5daa",
   "metadata": {},
   "outputs": [],
   "source": [
    "def my_name(name):\n",
    "    print('Hello world')\n",
    "    a = ', welcome to Python for Everyone!'\n",
    "    b = name + a\n",
    "    print(b)"
   ]
  },
  {
   "cell_type": "code",
   "execution_count": 49,
   "id": "3b4f3285",
   "metadata": {},
   "outputs": [
    {
     "name": "stdout",
     "output_type": "stream",
     "text": [
      "Hello world\n",
      "Manon, welcome to Python for Everyone!\n"
     ]
    }
   ],
   "source": [
    "a = my_name('Manon')"
   ]
  },
  {
   "cell_type": "code",
   "execution_count": 50,
   "id": "c09af9b1",
   "metadata": {},
   "outputs": [],
   "source": [
    "a "
   ]
  },
  {
   "cell_type": "code",
   "execution_count": 51,
   "id": "b2d6cddd",
   "metadata": {},
   "outputs": [],
   "source": [
    "def my_name1(name):\n",
    "    print('Hello world')\n",
    "    a = ', welcome to Python for Everyone!'\n",
    "    message = name + a\n",
    "    return message"
   ]
  },
  {
   "cell_type": "code",
   "execution_count": 55,
   "id": "3506289c",
   "metadata": {},
   "outputs": [],
   "source": [
    "def add_numbers(a, b):\n",
    "    return a + b"
   ]
  },
  {
   "cell_type": "code",
   "execution_count": 57,
   "id": "57a8cace",
   "metadata": {},
   "outputs": [
    {
     "data": {
      "text/plain": [
       "45325943723631099088259298759"
      ]
     },
     "execution_count": 57,
     "metadata": {},
     "output_type": "execute_result"
    }
   ],
   "source": [
    "add_numbers(33895635874724523, 45325943723597203452384574236)"
   ]
  },
  {
   "cell_type": "code",
   "execution_count": 62,
   "id": "3f570874",
   "metadata": {},
   "outputs": [],
   "source": [
    "def subtract_numbers(a, b):\n",
    "    z = a - b\n",
    "    return z"
   ]
  },
  {
   "cell_type": "code",
   "execution_count": 72,
   "id": "76024014",
   "metadata": {},
   "outputs": [
    {
     "data": {
      "text/plain": [
       "234532288850633"
      ]
     },
     "execution_count": 72,
     "metadata": {},
     "output_type": "execute_result"
    }
   ],
   "source": [
    "a - b"
   ]
  },
  {
   "cell_type": "code",
   "execution_count": 59,
   "id": "32f32567",
   "metadata": {},
   "outputs": [
    {
     "data": {
      "text/plain": [
       "-423523523454201099338073342909"
      ]
     },
     "execution_count": 59,
     "metadata": {},
     "output_type": "execute_result"
    }
   ],
   "source": [
    "subtract_numbers(34324234325235325, 423523523454235423572398578234)"
   ]
  },
  {
   "cell_type": "code",
   "execution_count": 65,
   "id": "9201c26d",
   "metadata": {},
   "outputs": [],
   "source": [
    "b = subtract_numbers(234432432, 234532524354252)"
   ]
  },
  {
   "cell_type": "code",
   "execution_count": 66,
   "id": "ba9be1bb",
   "metadata": {},
   "outputs": [
    {
     "data": {
      "text/plain": [
       "-234532289921820"
      ]
     },
     "execution_count": 66,
     "metadata": {},
     "output_type": "execute_result"
    }
   ],
   "source": [
    "b"
   ]
  },
  {
   "cell_type": "code",
   "execution_count": 63,
   "id": "43bf01c8",
   "metadata": {},
   "outputs": [],
   "source": [
    "a =  subtract_numbers(34352345, 35423532)"
   ]
  },
  {
   "cell_type": "code",
   "execution_count": 64,
   "id": "236c0169",
   "metadata": {},
   "outputs": [
    {
     "data": {
      "text/plain": [
       "-1071187"
      ]
     },
     "execution_count": 64,
     "metadata": {},
     "output_type": "execute_result"
    }
   ],
   "source": [
    "a"
   ]
  },
  {
   "cell_type": "code",
   "execution_count": 60,
   "id": "faf42442",
   "metadata": {},
   "outputs": [],
   "source": [
    "def check_even_odd(number):\n",
    "    if number % 2 == 0:\n",
    "        return \"Even\"\n",
    "    else:\n",
    "        return \"Odd\""
   ]
  },
  {
   "cell_type": "code",
   "execution_count": 61,
   "id": "abec6de4",
   "metadata": {},
   "outputs": [
    {
     "data": {
      "text/plain": [
       "'Odd'"
      ]
     },
     "execution_count": 61,
     "metadata": {},
     "output_type": "execute_result"
    }
   ],
   "source": [
    "check_even_odd(3245235)"
   ]
  },
  {
   "cell_type": "code",
   "execution_count": null,
   "id": "f1a2e94c",
   "metadata": {},
   "outputs": [],
   "source": [
    "def find_max(numbers):\n",
    "    max_value = max(numbers)\n",
    "    return max_value"
   ]
  },
  {
   "cell_type": "code",
   "execution_count": null,
   "id": "11cb9b0c",
   "metadata": {},
   "outputs": [],
   "source": [
    "numbers_list = [8, 2, 10, 5, 3,4,5, 2,3,1,2,3,4,5,6-3433, 3,\n",
    "               33432,3243534534,325543252331,134214321,535435234,\n",
    "               25432,5234452352354231321,324124213421,13214214,324432]\n",
    "find_max(numbers_list)"
   ]
  },
  {
   "cell_type": "code",
   "execution_count": null,
   "id": "3d9d9f4a",
   "metadata": {},
   "outputs": [],
   "source": [
    "def calculate_average(numbers):\n",
    "    total = sum(numbers)\n",
    "    average = total / len(numbers)\n",
    "    return average"
   ]
  },
  {
   "cell_type": "code",
   "execution_count": 68,
   "id": "2dae82e7",
   "metadata": {},
   "outputs": [],
   "source": [
    "def calculate_age (current_year, birth_year):\n",
    "    age = current_year - birth_year\n",
    "    return age"
   ]
  },
  {
   "cell_type": "code",
   "execution_count": 69,
   "id": "4ca2d7ee",
   "metadata": {},
   "outputs": [
    {
     "name": "stdout",
     "output_type": "stream",
     "text": [
      "Age:  202\n"
     ]
    }
   ],
   "source": [
    "print('Age: ', calculate_age(2021, 1819))"
   ]
  },
  {
   "cell_type": "code",
   "execution_count": 78,
   "id": "69a590a0",
   "metadata": {},
   "outputs": [
    {
     "name": "stdout",
     "output_type": "stream",
     "text": [
      "Result: 5\n"
     ]
    }
   ],
   "source": [
    "def simple_calculator(num1, num2, operator):\n",
    "    if operator == \"+\":\n",
    "        return num1 + num2\n",
    "    elif operator == \"-\":\n",
    "        return num1 - num2\n",
    "    elif operator == \"*\":\n",
    "        return num1 * num2\n",
    "    elif operator == \"/\":\n",
    "        return num1 / num2\n",
    "    else:\n",
    "        return \"Invalid operator\"\n",
    "\n",
    "result = simple_calculator(10, 5, \"+\")\n",
    "result = simple_calculator(10, 5, \"-\")\n",
    "print(\"Result:\", result)"
   ]
  },
  {
   "cell_type": "code",
   "execution_count": 75,
   "id": "704403e2",
   "metadata": {},
   "outputs": [
    {
     "data": {
      "text/plain": [
       "20"
      ]
     },
     "execution_count": 75,
     "metadata": {},
     "output_type": "execute_result"
    }
   ],
   "source": [
    "result = simple_calculator(15, 5, \"+\")\n",
    "result"
   ]
  },
  {
   "cell_type": "code",
   "execution_count": null,
   "id": "bee3c330",
   "metadata": {},
   "outputs": [],
   "source": [
    "def convert_to_minutes(hours, minutes):\n",
    "    total_minutes = (hours * 60) + minutes\n",
    "    return total_minutes\n",
    "    #\n",
    "hours = 2\n",
    "minutes = 30\n",
    "total_minutes = convert_to_minutes(hours, minutes)\n",
    "print(f\"{hours} hours and {minutes} minutes is {total_minutes} minutes.\")"
   ]
  },
  {
   "cell_type": "code",
   "execution_count": 70,
   "id": "e57579c2",
   "metadata": {},
   "outputs": [],
   "source": [
    "def weight_of_object (mass, gravity = 9.81):\n",
    "    weight = str(mass * gravity)+ ' N' # the value has to be changed to string first\n",
    "    return weight"
   ]
  },
  {
   "cell_type": "code",
   "execution_count": 79,
   "id": "cb0a936b",
   "metadata": {},
   "outputs": [
    {
     "data": {
      "text/plain": [
       "'981.0 N'"
      ]
     },
     "execution_count": 79,
     "metadata": {},
     "output_type": "execute_result"
    }
   ],
   "source": [
    "weight_of_object(100)"
   ]
  },
  {
   "cell_type": "code",
   "execution_count": 53,
   "id": "20e5c6e7",
   "metadata": {},
   "outputs": [
    {
     "name": "stdout",
     "output_type": "stream",
     "text": [
      "Hello world\n"
     ]
    }
   ],
   "source": [
    "a  = my_name1('Manon')"
   ]
  },
  {
   "cell_type": "code",
   "execution_count": 54,
   "id": "85d56b27",
   "metadata": {},
   "outputs": [
    {
     "data": {
      "text/plain": [
       "'Manon, welcome to Python for Everyone!'"
      ]
     },
     "execution_count": 54,
     "metadata": {},
     "output_type": "execute_result"
    }
   ],
   "source": [
    "a"
   ]
  },
  {
   "cell_type": "code",
   "execution_count": 33,
   "id": "fa7a21e6",
   "metadata": {},
   "outputs": [
    {
     "data": {
      "text/plain": [
       "'Manon Ya, welcome to Python for Everyone!'"
      ]
     },
     "execution_count": 33,
     "metadata": {},
     "output_type": "execute_result"
    }
   ],
   "source": [
    "my_name('Manon Ya')"
   ]
  },
  {
   "cell_type": "code",
   "execution_count": 35,
   "id": "29a5b13c",
   "metadata": {},
   "outputs": [
    {
     "data": {
      "text/plain": [
       "'Cambodia, welcome to Python for Everyone!'"
      ]
     },
     "execution_count": 35,
     "metadata": {},
     "output_type": "execute_result"
    }
   ],
   "source": [
    "my_name('Cambodia')"
   ]
  },
  {
   "cell_type": "code",
   "execution_count": 40,
   "id": "52c97776",
   "metadata": {},
   "outputs": [],
   "source": [
    "def greet(name):\n",
    "    return f'Hello , {name}!'"
   ]
  },
  {
   "cell_type": "code",
   "execution_count": 41,
   "id": "73d867c2",
   "metadata": {},
   "outputs": [
    {
     "data": {
      "text/plain": [
       "'Hello , 1!'"
      ]
     },
     "execution_count": 41,
     "metadata": {},
     "output_type": "execute_result"
    }
   ],
   "source": [
    "greet(1)"
   ]
  },
  {
   "cell_type": "code",
   "execution_count": 42,
   "id": "0f2a18b3",
   "metadata": {},
   "outputs": [],
   "source": [
    "def add_numbers(a, b):\n",
    "    return a + b"
   ]
  },
  {
   "cell_type": "code",
   "execution_count": null,
   "id": "486fe909",
   "metadata": {},
   "outputs": [],
   "source": [
    "add_numbers()"
   ]
  },
  {
   "cell_type": "code",
   "execution_count": null,
   "id": "5243bbb0",
   "metadata": {},
   "outputs": [],
   "source": []
  },
  {
   "cell_type": "code",
   "execution_count": null,
   "id": "9cf65bc6",
   "metadata": {},
   "outputs": [],
   "source": []
  },
  {
   "cell_type": "code",
   "execution_count": 17,
   "id": "52eb98e1",
   "metadata": {},
   "outputs": [
    {
     "name": "stdout",
     "output_type": "stream",
     "text": [
      "Manon, welcome to Python for Everyone!\n",
      "100\n",
      "4\n",
      "314.0\n",
      "55\n",
      "None\n",
      "5050\n",
      "None\n"
     ]
    }
   ],
   "source": [
    "def greetings (name):\n",
    "    message = name + ', welcome to Python for Everyone!'\n",
    "    return message\n",
    "\n",
    "print(greetings('Manon'))\n",
    "\n",
    "def add_ten(num):\n",
    "    ten = 10\n",
    "    return num + ten\n",
    "print(add_ten(90))\n",
    "\n",
    "def square_number(x):\n",
    "    return x * x\n",
    "print(square_number(2))\n",
    "\n",
    "def area_of_circle (r):\n",
    "    PI = 3.14\n",
    "    area = PI * r ** 2\n",
    "    return area\n",
    "print(area_of_circle(10))\n",
    "\n",
    "def sum_of_numbers(n):\n",
    "    total = 0\n",
    "    for i in range(n+1):\n",
    "        total+=i\n",
    "    print(total)\n",
    "print(sum_of_numbers(10)) # 55\n",
    "print(sum_of_numbers(100)) # 5050"
   ]
  },
  {
   "cell_type": "markdown",
   "id": "29f6339a",
   "metadata": {},
   "source": [
    "- Two Parameter: A function may or may not have a parameter or parameters. A function may also have two or more parameters. If our function takes parameters we should call it with arguments. Let us check a function with two parameters:\n",
    "\n",
    "```py\n",
    "  # syntax\n",
    "  # Declaring a function\n",
    "  def function_name(para1, para2):\n",
    "    codes\n",
    "    codes\n",
    "  # Calling function\n",
    "  print(function_name(arg1, arg2))\n",
    "```"
   ]
  },
  {
   "cell_type": "code",
   "execution_count": 21,
   "id": "995e496a",
   "metadata": {},
   "outputs": [
    {
     "name": "stdout",
     "output_type": "stream",
     "text": [
      "Full Name:  Manon Ya\n",
      "Sum of two numbers:  10\n",
      "Age:  202\n",
      "Weight of an object in Newtons:  981.0 N\n"
     ]
    }
   ],
   "source": [
    "def generate_full_name (first_name, last_name):\n",
    "    space = ' '\n",
    "    full_name = first_name + space + last_name\n",
    "    return full_name\n",
    "print('Full Name: ', generate_full_name('Manon','Ya'))\n",
    "\n",
    "def sum_two_numbers (num_one, num_two):\n",
    "    sum = num_one + num_two\n",
    "    return sum\n",
    "print('Sum of two numbers: ', sum_two_numbers(1, 9))\n",
    "\n",
    "def calculate_age (current_year, birth_year):\n",
    "    age = current_year - birth_year\n",
    "    return age;\n",
    "\n",
    "print('Age: ', calculate_age(2021, 1819))\n",
    "\n",
    "def weight_of_object (mass, gravity):\n",
    "    weight = str(mass * gravity)+ ' N' # the value has to be changed to a string first\n",
    "    return weight\n",
    "print('Weight of an object in Newtons: ', weight_of_object(100, 9.81))"
   ]
  },
  {
   "cell_type": "markdown",
   "id": "18e92db2",
   "metadata": {},
   "source": [
    "### Passing Arguments with Key and Value\n",
    "\n",
    "If we pass the arguments with key and value, the order of the arguments does not matter.\n",
    "\n",
    "```py\n",
    "# syntax\n",
    "# Declaring a function\n",
    "def function_name(para1, para2):\n",
    "    codes\n",
    "    codes\n",
    "# Calling function\n",
    "print(function_name(para1 = 'John', para2 = 'Doe')) # the order of arguments does not matter here\n",
    "```"
   ]
  },
  {
   "cell_type": "code",
   "execution_count": 22,
   "id": "9fb74b85",
   "metadata": {},
   "outputs": [
    {
     "name": "stdout",
     "output_type": "stream",
     "text": [
      "Asabeneh Yetayeh\n",
      "None\n",
      "5\n",
      "None\n"
     ]
    }
   ],
   "source": [
    "def print_fullname(firstname, lastname):\n",
    "    space = ' '\n",
    "    full_name = firstname  + space + lastname\n",
    "    print(full_name)\n",
    "print(print_fullname(firstname = 'Asabeneh', lastname = 'Yetayeh'))\n",
    "\n",
    "def add_two_numbers (num1, num2):\n",
    "    total = num1 + num2\n",
    "    print(total)\n",
    "print(add_two_numbers(num2 = 3, num1 = 2)) # Order does not matter"
   ]
  },
  {
   "cell_type": "markdown",
   "id": "a72f7a7a",
   "metadata": {},
   "source": [
    "## Function Returning a Value - Part 2\n",
    "\n",
    "If we do not return a value with a function, then our function is returning _None_ by default. To return a value with a function we use the keyword _return_ followed by the variable we are returning. We can return any kind of data types from a function.\n",
    "\n",
    "- Returning a string:"
   ]
  },
  {
   "cell_type": "code",
   "execution_count": 25,
   "id": "ab65b719",
   "metadata": {},
   "outputs": [
    {
     "data": {
      "text/plain": [
       "'Manon'"
      ]
     },
     "execution_count": 25,
     "metadata": {},
     "output_type": "execute_result"
    }
   ],
   "source": [
    "def print_name(firstname):\n",
    "    return firstname\n",
    "print_name('Manon') # Asabeneh\n",
    "\n"
   ]
  },
  {
   "cell_type": "code",
   "execution_count": 26,
   "id": "49a55c2a",
   "metadata": {},
   "outputs": [
    {
     "data": {
      "text/plain": [
       "'Manon Ya'"
      ]
     },
     "execution_count": 26,
     "metadata": {},
     "output_type": "execute_result"
    }
   ],
   "source": [
    "def print_full_name(firstname, lastname):\n",
    "    space = ' '\n",
    "    full_name = firstname  + space + lastname\n",
    "    return full_name\n",
    "print_full_name(firstname='Manon', lastname='Ya')"
   ]
  },
  {
   "cell_type": "markdown",
   "id": "94cf7690",
   "metadata": {},
   "source": [
    "- Returning a number:"
   ]
  },
  {
   "cell_type": "code",
   "execution_count": 28,
   "id": "5ce663ef",
   "metadata": {},
   "outputs": [
    {
     "name": "stdout",
     "output_type": "stream",
     "text": [
      "5\n"
     ]
    }
   ],
   "source": [
    "def add_two_numbers (num1, num2):\n",
    "    total = num1 + num2\n",
    "    return total\n",
    "print(add_two_numbers(2, 3))\n",
    "\n"
   ]
  },
  {
   "cell_type": "code",
   "execution_count": 27,
   "id": "826b3233",
   "metadata": {},
   "outputs": [
    {
     "name": "stdout",
     "output_type": "stream",
     "text": [
      "Age:  200\n"
     ]
    }
   ],
   "source": [
    "def calculate_age (current_year, birth_year):\n",
    "    age = current_year - birth_year\n",
    "    return age;\n",
    "print('Age: ', calculate_age(2019, 1819))"
   ]
  },
  {
   "cell_type": "markdown",
   "id": "7dc29981",
   "metadata": {},
   "source": [
    "- Returning a boolean:"
   ]
  },
  {
   "cell_type": "code",
   "execution_count": 30,
   "id": "81a58e69",
   "metadata": {},
   "outputs": [
    {
     "name": "stdout",
     "output_type": "stream",
     "text": [
      "even\n",
      "True\n",
      "False\n"
     ]
    }
   ],
   "source": [
    "def is_even (n):\n",
    "    if n % 2 == 0:\n",
    "        print('even')\n",
    "        return True    # return stops further execution of the function, similar to break \n",
    "    return False\n",
    "print(is_even(10)) # True\n",
    "print(is_even(7)) # False"
   ]
  },
  {
   "cell_type": "markdown",
   "id": "2c61a092",
   "metadata": {},
   "source": [
    "- Returning a list:"
   ]
  },
  {
   "cell_type": "code",
   "execution_count": 31,
   "id": "3ec8e6fc",
   "metadata": {},
   "outputs": [
    {
     "name": "stdout",
     "output_type": "stream",
     "text": [
      "[0, 2, 4, 6, 8, 10]\n"
     ]
    }
   ],
   "source": [
    "def find_even_numbers(n):\n",
    "    evens = []\n",
    "    for i in range(n + 1):\n",
    "        if i % 2 == 0:\n",
    "            evens.append(i)\n",
    "    return evens\n",
    "print(find_even_numbers(10))"
   ]
  },
  {
   "cell_type": "markdown",
   "id": "538bc8c3",
   "metadata": {},
   "source": [
    "### Function with Default Parameters\n",
    "\n",
    "Sometimes we pass default values to parameters, when we invoke the function. If we do not pass arguments when calling the function, their default values will be used.\n",
    "\n",
    "```py\n",
    "# syntax\n",
    "# Declaring a function\n",
    "def function_name(param = value):\n",
    "    codes\n",
    "    codes\n",
    "# Calling function\n",
    "function_name()\n",
    "function_name(arg)\n",
    "```"
   ]
  },
  {
   "cell_type": "code",
   "execution_count": 33,
   "id": "e22b0725",
   "metadata": {},
   "outputs": [
    {
     "name": "stdout",
     "output_type": "stream",
     "text": [
      "Peter, welcome to Python for Everyone!\n",
      "Manon, welcome to Python for Everyone!\n"
     ]
    }
   ],
   "source": [
    "def greetings (name = 'Peter'):\n",
    "    message = name + ', welcome to Python for Everyone!'\n",
    "    return message\n",
    "print(greetings())\n",
    "print(greetings('Manon'))"
   ]
  },
  {
   "cell_type": "code",
   "execution_count": 36,
   "id": "4dc2aaa6",
   "metadata": {},
   "outputs": [],
   "source": [
    "def generate_full_name (first_name = 'Manon', last_name = 'YA'):\n",
    "    space = ' '\n",
    "    full_name = first_name + space + last_name\n",
    "    return full_name"
   ]
  },
  {
   "cell_type": "code",
   "execution_count": 37,
   "id": "f99ede4f",
   "metadata": {},
   "outputs": [
    {
     "name": "stdout",
     "output_type": "stream",
     "text": [
      "Manon YA\n",
      "David Smith\n"
     ]
    }
   ],
   "source": [
    "print(generate_full_name())\n",
    "print(generate_full_name('David','Smith'))"
   ]
  },
  {
   "cell_type": "code",
   "execution_count": 38,
   "id": "9719cae6",
   "metadata": {},
   "outputs": [
    {
     "name": "stdout",
     "output_type": "stream",
     "text": [
      "Age:  200\n"
     ]
    }
   ],
   "source": [
    "def calculate_age (birth_year,current_year = 2021):\n",
    "    age = current_year - birth_year\n",
    "    return age;\n",
    "print('Age: ', calculate_age(1821))"
   ]
  },
  {
   "cell_type": "code",
   "execution_count": 39,
   "id": "6cea8c6d",
   "metadata": {},
   "outputs": [],
   "source": [
    "def weight_of_object (mass, gravity = 9.81):\n",
    "    weight = str(mass * gravity)+ ' N' # the value has to be changed to string first\n",
    "    return weight"
   ]
  },
  {
   "cell_type": "code",
   "execution_count": 40,
   "id": "2b9948f5",
   "metadata": {},
   "outputs": [
    {
     "name": "stdout",
     "output_type": "stream",
     "text": [
      "Weight of an object in Newtons:  981.0 N\n",
      "Weight of an object in Newtons:  162.0 N\n"
     ]
    }
   ],
   "source": [
    "print('Weight of an object in Newtons: ', weight_of_object(100)) # 9.81 - average gravity on Earth's surface\n",
    "print('Weight of an object in Newtons: ', weight_of_object(100, 1.62)) # gravity on the surface of the Moon"
   ]
  },
  {
   "cell_type": "markdown",
   "id": "2b28f0b8",
   "metadata": {},
   "source": [
    "### Arbitrary Number of Arguments\n",
    "\n",
    "If we do not know the number of arguments we pass to our function, we can create a function which can take arbitrary number of arguments by adding \\* before the parameter name.\n",
    "\n",
    "```py\n",
    "# syntax\n",
    "# Declaring a function\n",
    "def function_name(*args):\n",
    "    codes\n",
    "    codes\n",
    "# Calling function\n",
    "function_name(param1, param2, param3,..)\n",
    "```\n"
   ]
  },
  {
   "cell_type": "code",
   "execution_count": 41,
   "id": "2d09685a",
   "metadata": {},
   "outputs": [
    {
     "name": "stdout",
     "output_type": "stream",
     "text": [
      "10\n"
     ]
    }
   ],
   "source": [
    "def sum_all_nums(*nums):\n",
    "    total = 0\n",
    "    for num in nums:\n",
    "        total += num     # same as total = total + num \n",
    "    return total\n",
    "print(sum_all_nums(2, 3, 5)) # 10"
   ]
  },
  {
   "cell_type": "markdown",
   "id": "79fa6d51",
   "metadata": {},
   "source": [
    "### Default and Arbitrary Number of Parameters in Functions\n"
   ]
  },
  {
   "cell_type": "code",
   "execution_count": 42,
   "id": "b6ad894f",
   "metadata": {},
   "outputs": [
    {
     "name": "stdout",
     "output_type": "stream",
     "text": [
      "Team-1\n",
      "Asabeneh\n",
      "Brook\n",
      "David\n",
      "Eyob\n",
      "None\n"
     ]
    }
   ],
   "source": [
    "def generate_groups (team,*args):\n",
    "    print(team)\n",
    "    for i in args:\n",
    "        print(i)\n",
    "print(generate_groups('Team-1','Asabeneh','Brook','David','Eyob'))"
   ]
  },
  {
   "cell_type": "markdown",
   "id": "b9095ae6",
   "metadata": {},
   "source": [
    "### Function as a Parameter of Another Function\n"
   ]
  },
  {
   "cell_type": "code",
   "execution_count": 43,
   "id": "d27bdd24",
   "metadata": {},
   "outputs": [
    {
     "name": "stdout",
     "output_type": "stream",
     "text": [
      "9\n"
     ]
    }
   ],
   "source": [
    "#You can pass functions around as parameters\n",
    "def square_number (n):\n",
    "    return n * n\n",
    "def do_something(f, x):\n",
    "    return f(x)\n",
    "print(do_something(square_number, 3)) # 27"
   ]
  },
  {
   "cell_type": "code",
   "execution_count": null,
   "id": "96c8685a",
   "metadata": {},
   "outputs": [],
   "source": []
  }
 ],
 "metadata": {
  "kernelspec": {
   "display_name": "Python 3 (ipykernel)",
   "language": "python",
   "name": "python3"
  },
  "language_info": {
   "codemirror_mode": {
    "name": "ipython",
    "version": 3
   },
   "file_extension": ".py",
   "mimetype": "text/x-python",
   "name": "python",
   "nbconvert_exporter": "python",
   "pygments_lexer": "ipython3",
   "version": "3.10.9"
  }
 },
 "nbformat": 4,
 "nbformat_minor": 5
}
