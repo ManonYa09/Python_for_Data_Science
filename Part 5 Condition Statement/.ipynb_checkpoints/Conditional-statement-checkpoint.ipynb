{
 "cells": [
  {
   "cell_type": "markdown",
   "metadata": {},
   "source": [
    "\n",
    "# Conditions in Python\n",
    "## Objectives\n",
    "\n",
    "After completing this lab you will be able to:\n",
    "\n",
    "*   work with condition statements in Python, including operators, and branching.\n"
   ]
  },
  {
   "cell_type": "markdown",
   "metadata": {},
   "source": [
    "<h2>Table of Contents</h2>\n",
    "<a id=\"toc\"></a> \n",
    "<div class=\"alert alert-block alert-info\" style=\"margin-top: 20px\">\n",
    "  \n",
    "1. [Condition Statements](#1)\n",
    "    \n",
    "    a. [Comparison Operators](#1.1)\n",
    "    \n",
    "    b. [Branching](#1.2)\n",
    "    \n",
    "    c. [Logical operators](#1.3)\n",
    "    \n",
    "    \n",
    "2. [Quiz on Condition Statement](#2)\n",
    "\n",
    "<hr>\n"
   ]
  },
  {
   "cell_type": "markdown",
   "metadata": {},
   "source": [
    "<a id=1></a>\n",
    "## Condition Statements\n"
   ]
  },
  {
   "cell_type": "markdown",
   "metadata": {},
   "source": [
    "<a id = 1.1></a>\n",
    "### Comparison Operators\n"
   ]
  },
  {
   "cell_type": "markdown",
   "metadata": {},
   "source": [
    "Comparison operations compare some value or operand and based on a condition, produce a Boolean. When comparing two values you can use these operators:\n",
    "\n",
    "<ul>\n",
    "    <li>equal: <b>==</b></li>\n",
    "    <li>not equal: <b>!=</b></li>\n",
    "    <li>greater than: <b>></b></li>\n",
    "    <li>less than: <b>&lt;</b></li>\n",
    "    <li>greater than or equal to: <b>>=</b></li>\n",
    "    <li>less than or equal to: <b>&lt;=</b></li>\n",
    "</ul>\n"
   ]
  },
  {
   "cell_type": "markdown",
   "metadata": {},
   "source": [
    "<a id=1.2></a>\n",
    "### Branching\n"
   ]
  },
  {
   "cell_type": "markdown",
   "metadata": {},
   "source": [
    "Branching allows us to run different statements for different inputs. It is helpful to think of an **if statement** as a locked room, if the statement is **True** we can enter the room and your program will run some predefined tasks, but if the statement is **False** the program will ignore the task.\n"
   ]
  },
  {
   "cell_type": "markdown",
   "metadata": {},
   "source": [
    "<img src=\"Photos/control_structure.png\" alt=\"Control Structure\" width=\"60%\" style=\"display: block; margin: 0 auto;\">\n"
   ]
  },
  {
   "cell_type": "markdown",
   "metadata": {},
   "source": [
    "## Conditionals\n",
    "\n",
    "By default, statements in Python script are executed sequentially from top to bottom. If the processing logic require so, the sequential flow of execution can be altered in two way:\n",
    "\n",
    "- Conditional execution: a block of one or more statements will be executed if a certain expression is true\n",
    "- Repetitive execution: a block of one or more statements will be repetitively executed as long as a certain expression is true. In this section, we will cover _if_, _else_, _elif_ statements. The comparison and logical operators we learned in previous sections will be useful here."
   ]
  },
  {
   "cell_type": "markdown",
   "metadata": {},
   "source": [
    "[Read More](https://www.c-sharpcorner.com/article/python-branching-statements/)\n"
   ]
  },
  {
   "cell_type": "markdown",
   "metadata": {},
   "source": [
    "<a id= 1.1.1 ></a>\n",
    "#### if condition\n",
    "\n",
    "This statement is used to test the condition only.\n",
    "\n",
    "**Syntax**\n",
    "\n",
    "<img src=\"Photos/if_condition.png\" alt=\"Control Structure\" width=\"40%\" style=\"display: block; margin: 0 auto;\">"
   ]
  },
  {
   "cell_type": "markdown",
   "metadata": {},
   "source": [
    "<!-- #### flow Chart \n",
    "![image.png](attachment:10b4e77d-fb25-407e-a919-399c5cdc1387.png) -->"
   ]
  },
  {
   "cell_type": "markdown",
   "metadata": {},
   "source": [
    "\n",
    "\n",
    "### If Condition\n",
    "\n",
    "In python and other programming languages the key word _if_ is used to check if a condition is true and to execute the block code. Remember the indentation after the colon.\n",
    "\n",
    "```py\n",
    "# syntax\n",
    "if condition:\n",
    "    this part of code runs for truthy conditions\n",
    "```"
   ]
  },
  {
   "cell_type": "code",
   "execution_count": null,
   "metadata": {},
   "outputs": [],
   "source": [
    "a = 9 \n",
    "if a == 9: \n",
    "    print(\"valid\")"
   ]
  },
  {
   "cell_type": "code",
   "execution_count": null,
   "metadata": {},
   "outputs": [],
   "source": [
    "a = int(input('Input the number: '))\n",
    "if a > 9:\n",
    "    print('valid')"
   ]
  },
  {
   "cell_type": "code",
   "execution_count": null,
   "metadata": {},
   "outputs": [],
   "source": [
    "a = 3\n",
    "if a > 0:\n",
    "    print('A is a positive number')\n",
    "# A is a positive number"
   ]
  },
  {
   "cell_type": "markdown",
   "metadata": {},
   "source": [
    "As you can see in the example above, 3 is greater than 0. The condition was true and the block code was executed. However, if the condition is false, we do not see the result. In order to see the result of the falsy condition, we should have another block, which is going to be _else_.\n",
    "\n",
    "### If Else\n",
    "\n",
    "If condition is true the first block will be executed, if not the else condition will run.\n",
    "\n",
    "- This statement is used to test the condition.\n",
    "- When the condition is true, then a true statement is executed\n",
    "- When the condition is false, then a false statement is executed.\n",
    "\n",
    "```py\n",
    "# syntax\n",
    "if condition:\n",
    "    this part of code runs for truthy conditions\n",
    "```"
   ]
  },
  {
   "cell_type": "code",
   "execution_count": null,
   "metadata": {},
   "outputs": [],
   "source": [
    "a = 3\n",
    "if a < 0:\n",
    "    print('A is a negative number')\n",
    "else:\n",
    "    print('A is a positive number')"
   ]
  },
  {
   "cell_type": "markdown",
   "metadata": {},
   "source": [
    "The condition above proves false, therefore the else block was executed. How about if our condition is more than two? We could use _ elif_."
   ]
  },
  {
   "cell_type": "markdown",
   "metadata": {},
   "source": [
    "\n",
    "### If Elif Else\n",
    "\n",
    "In our daily life, we make decisions on daily basis. We make decisions not by checking one or two conditions but multiple conditions. As similar to life, programming is also full of conditions. We use _elif_ when we have multiple conditions.\n",
    "\n",
    "```py\n",
    "# syntax\n",
    "if condition:\n",
    "    code\n",
    "elif condition:\n",
    "    code\n",
    "else:\n",
    "    code\n",
    "\n",
    "```"
   ]
  },
  {
   "cell_type": "code",
   "execution_count": null,
   "metadata": {},
   "outputs": [],
   "source": [
    "a = 0\n",
    "if a > 0:\n",
    "    print('A is a positive number')\n",
    "elif a < 0:\n",
    "    print('A is a negative number')\n",
    "else:\n",
    "    print('A is zero')"
   ]
  },
  {
   "cell_type": "code",
   "execution_count": null,
   "metadata": {},
   "outputs": [],
   "source": [
    "total_price = int(input('Enter the total price:'))\n",
    "if total_price > 20000:\n",
    "    discount = total_price * 0.20\n",
    "    print(\"Discount will be \" , f'${discount:.2f}')\n",
    "else:\n",
    "    discount = total_price * 0.05\n",
    "    print(\"dicount will be \" , f'${discount:.2f}')\n",
    "     \n",
    "final_price = total_price - discount\n",
    "print('------------------------')\n",
    "print(f\"Final Price after Discount:, ${final_price:.2f}\") "
   ]
  },
  {
   "cell_type": "code",
   "execution_count": null,
   "metadata": {},
   "outputs": [],
   "source": [
    "income = int(input())\n",
    "if income < 50:\n",
    "    print(\"i will be able to buy phone\")\n",
    "elif income < 70 :\n",
    "    print(\"i will be able to buy car \")\n",
    "elif  income < 90 :\n",
    "    print(\"i will be able to rent a house \")\n",
    "else :\n",
    "    print(\"i be able to buy anything\")"
   ]
  },
  {
   "cell_type": "markdown",
   "metadata": {},
   "source": [
    "### Short Hand\n",
    "\n",
    "```py\n",
    "# syntax\n",
    "code if condition else code\n",
    "```"
   ]
  },
  {
   "cell_type": "code",
   "execution_count": null,
   "metadata": {},
   "outputs": [],
   "source": [
    "a = 3\n",
    "print('A is positive') if a > 0 else print('A is negative')"
   ]
  },
  {
   "cell_type": "markdown",
   "metadata": {},
   "source": [
    "### Nested Conditions\n",
    "\n",
    "Conditions can be nested\n",
    "\n",
    "```py\n",
    "# syntax\n",
    "if condition:\n",
    "    code\n",
    "    if condition:\n",
    "    code\n",
    "```\n"
   ]
  },
  {
   "cell_type": "code",
   "execution_count": null,
   "metadata": {},
   "outputs": [],
   "source": [
    "a = 0\n",
    "if a > 0:\n",
    "    if a % 2 == 0:\n",
    "        print('A is a positive and even integer')\n",
    "    else:\n",
    "        print('A is a positive number')\n",
    "elif a == 0:\n",
    "    print('A is zero')\n",
    "else:\n",
    "    print('A is a negative number')"
   ]
  },
  {
   "cell_type": "markdown",
   "metadata": {},
   "source": [
    "<!-- <img src=\"https://cf-courses-data.s3.us.cloud-object-storage.appdomain.cloud/IBMDeveloperSkillsNetwork-PY0101EN-SkillsNetwork/labs/Module%203/images/CondsIf.gif\" width=\"550\"> -->\n"
   ]
  },
  {
   "cell_type": "markdown",
   "metadata": {},
   "source": [
    "<!-- <img src=\"https://cf-courses-data.s3.us.cloud-object-storage.appdomain.cloud/IBMDeveloperSkillsNetwork-PY0101EN-SkillsNetwork/labs/Module%203/images/CondsElse.gif\" width=\"600\"> -->\n"
   ]
  },
  {
   "cell_type": "code",
   "execution_count": null,
   "metadata": {},
   "outputs": [],
   "source": [
    "coup = input()\n",
    "if coup == \"SUDHANSHU5\":\n",
    "    print(\"you will be able to get a discount of 5 % \")\n",
    "    paid_amount = 7080 - 7080*.05\n",
    "    print(\"you will be able to get one neuron with this amount \" , paid_amount )\n",
    "else :\n",
    "    print(\"kindly use a valid coupoun code \")"
   ]
  },
  {
   "cell_type": "code",
   "execution_count": null,
   "metadata": {},
   "outputs": [],
   "source": [
    "age=int(input('enter the age is : '))\n",
    "if age <= 5:\n",
    "    print(\"free ticket\")\n",
    "elif age <=18:\n",
    "    print(\"ticket sell : 10$\")\n",
    "elif age <=30:\n",
    "    print(\"ticket sell: 20$\")\n",
    "else:\n",
    "    print(\"ticket Sell:30$\")"
   ]
  },
  {
   "cell_type": "code",
   "execution_count": null,
   "metadata": {},
   "outputs": [],
   "source": [
    "Total_price = int(input())\n",
    "\n",
    "if Total_price > 20000:\n",
    "    dicount = Total_price * .20\n",
    "    print (\"Discount is\", discount)\n",
    "elif Total_price > 7000:\n",
    "    dicount = Total_price * .05\n",
    "    print (\"No discount\")\n"
   ]
  },
  {
   "cell_type": "markdown",
   "metadata": {},
   "source": [
    "<a id=1.3></a>\n",
    "### Logical operators\n"
   ]
  },
  {
   "cell_type": "markdown",
   "metadata": {},
   "source": [
    "Sometimes you want to check more than one condition at once. For example, you might want to check if one condition and another condition are both **True**. Logical operators allow you to combine or modify conditions.\n",
    "\n",
    "<ul>\n",
    "    <li><code>and</code></li>\n",
    "    <li><code>or</code></li>\n",
    "    <li><code>not</code></li>\n",
    "</ul>\n",
    "\n",
    "These operators are summarized for two variables using the following truth tables:\n"
   ]
  },
  {
   "cell_type": "markdown",
   "metadata": {},
   "source": [
    "<img src=\"https://cf-courses-data.s3.us.cloud-object-storage.appdomain.cloud/IBMDeveloperSkillsNetwork-PY0101EN-SkillsNetwork/labs/Module%203/images/CondsTable.png\" width=\"400\">\n"
   ]
  },
  {
   "cell_type": "markdown",
   "metadata": {},
   "source": [
    "Exercise 1:\n",
    "Write a Python program that checks if a given number is even or odd.\n",
    "\n",
    "Exercise 2:\n",
    "Create a program that takes a user's age as input and then prints whether the user is a minor (below 18), an adult (18 or older), or a senior (65 or older).\n",
    "\n",
    "Exercise 3:\n",
    "Write a program that checks whether a given year is a leap year or not.\n",
    "\n",
    "Exercise 4:\n",
    "Create a program that takes a temperature in Celsius as input and converts it to Fahrenheit using the formula: F = C * 9/5 + 32.\n",
    "\n",
    "Exercise 5:\n",
    "Write a program that takes three numbers as input and prints the largest of them.\n",
    "\n",
    "Exercise 6:\n",
    "Create a program that checks if a given string is a palindrome (reads the same forwards and backwards).\n",
    "\n",
    "Exercise 7:\n",
    "Write a program that determines whether a given character is a vowel or a consonant.\n",
    "\n",
    "Exercise 8:\n",
    "Create a simple calculator program that takes two numbers and an operator (+, -, *, /) as input and performs the corresponding operation.\n",
    "\n",
    "Exercise 9:\n",
    "Write a program that prompts the user for their exam score and prints out their corresponding grade according to the following scale: A (90-100), B (80-89), C (70-79), D (60-69), F (below 60).\n",
    "\n",
    "Exercise 10:\n",
    "Create a program that simulates a basic ATM. The user should be able to check their balance, deposit money, and withdraw money. Make sure to handle cases where the user tries to withdraw more money than they have."
   ]
  },
  {
   "cell_type": "markdown",
   "metadata": {},
   "source": [
    "<hr>\n",
    "<h2>The last exercise!</h2>\n",
    "<p>Congratulations, you have completed your first lesson and hands-on lab in Python. \n",
    "<hr>\n",
    "\n",
    "<a href=\"#toc\" role=\"button\" aria-pressed=\"true\" >⬆️Back to Table of Contents ⬆️</a>\n",
    "[Reference IBM Coursera](https://www.coursera.org/learn/python-for-applied-data-science-ai)"
   ]
  },
  {
   "cell_type": "code",
   "execution_count": null,
   "metadata": {},
   "outputs": [],
   "source": []
  }
 ],
 "metadata": {
  "kernelspec": {
   "display_name": "Python 3 (ipykernel)",
   "language": "python",
   "name": "python3"
  },
  "language_info": {
   "codemirror_mode": {
    "name": "ipython",
    "version": 3
   },
   "file_extension": ".py",
   "mimetype": "text/x-python",
   "name": "python",
   "nbconvert_exporter": "python",
   "pygments_lexer": "ipython3",
   "version": "3.10.9"
  }
 },
 "nbformat": 4,
 "nbformat_minor": 4
}
