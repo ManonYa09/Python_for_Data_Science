{
 "cells": [
  {
   "cell_type": "markdown",
   "id": "cd69a425",
   "metadata": {},
   "source": [
    "### Expression And Variables\n",
    "#### Expressions\n",
    "\n",
    "<p>Expressions in Python can include operations among compatible types (e.g., integers and floats). For example, basic arithmetic operations like adding multiple numbers:</p>\n",
    "\n"
   ]
  },
  {
   "cell_type": "markdown",
   "id": "71099512",
   "metadata": {},
   "source": [
    "#### Python Arithmetic Operators\n",
    "- **+:** The addition operator\n",
    "\n",
    "- **-:** The minus operator.\n",
    "\n",
    "- **\\*:** The multiplication operator.\n",
    "\n",
    "- **/:** The division operator.\n",
    "\n",
    "- **\\**:** The exponentiation operator.\n",
    "\n",
    "- **%:** The modulus operator."
   ]
  },
  {
   "cell_type": "code",
   "execution_count": 1,
   "id": "b673e99f",
   "metadata": {},
   "outputs": [
    {
     "data": {
      "text/plain": [
       "79"
      ]
     },
     "execution_count": 1,
     "metadata": {},
     "output_type": "execute_result"
    }
   ],
   "source": [
    "45 + 34"
   ]
  },
  {
   "cell_type": "code",
   "execution_count": 2,
   "id": "954af39a",
   "metadata": {},
   "outputs": [
    {
     "data": {
      "text/plain": [
       "-1"
      ]
     },
     "execution_count": 2,
     "metadata": {},
     "output_type": "execute_result"
    }
   ],
   "source": [
    "-3 + 2"
   ]
  },
  {
   "cell_type": "code",
   "execution_count": 3,
   "id": "09b5f9cf",
   "metadata": {},
   "outputs": [
    {
     "data": {
      "text/plain": [
       "9"
      ]
     },
     "execution_count": 3,
     "metadata": {},
     "output_type": "execute_result"
    }
   ],
   "source": [
    "3*3"
   ]
  },
  {
   "cell_type": "code",
   "execution_count": 4,
   "id": "ce8970ab",
   "metadata": {},
   "outputs": [
    {
     "data": {
      "text/plain": [
       "136248177181581087202661831239614133459361209231801558"
      ]
     },
     "execution_count": 4,
     "metadata": {},
     "output_type": "execute_result"
    }
   ],
   "source": [
    "35454562248599752852856487528746*3842895484824723527423"
   ]
  },
  {
   "cell_type": "code",
   "execution_count": 5,
   "id": "24786851",
   "metadata": {},
   "outputs": [
    {
     "data": {
      "text/plain": [
       "8"
      ]
     },
     "execution_count": 5,
     "metadata": {},
     "output_type": "execute_result"
    }
   ],
   "source": [
    "2**3"
   ]
  },
  {
   "cell_type": "code",
   "execution_count": 6,
   "id": "14ca7211",
   "metadata": {},
   "outputs": [
    {
     "data": {
      "text/plain": [
       "1257025984239834763214391546881630988342885261854081430176332516"
      ]
     },
     "execution_count": 6,
     "metadata": {},
     "output_type": "execute_result"
    }
   ],
   "source": [
    "35454562248599752852856487528746**2"
   ]
  },
  {
   "cell_type": "code",
   "execution_count": 7,
   "id": "3a11889b",
   "metadata": {},
   "outputs": [
    {
     "data": {
      "text/plain": [
       "77186411097091234949993099419739043302776803825302710667763085353555887475336401167374762234577694306199350522862895936040430173913188296317890443618769062341676426660247473900969858656258371315628752471445564974550535517380446084765896051651152147834868625686539930712337677211812043984044739914991298071229504860983063791968001298866873280442251753224837197925199528049397793874362070127965896167059126473767328622489052523602227820370089440695079979598389677363416460074318084998289449216049010672271622170135222968433343247139014945247834391032944989744281831488811152702075862180291645355813648841648208731801519049886920203264015262452125848835720645343461301586825788287931096298061283714190126726380906037694622534906463691951248693944216677072638173231751988010502217645198760047291063063224315179197923682108917811971001531611592761862431306460847371901430936845485686108053566999510036904366017279407718968821263963602914272420888683890340398471235284681522873719756977916457998862935196155239633402587120826799283280229843505263311341768658877805798653017786073261442921777592512110520406566030763810161796136123390899823813906051174713330420391229601963065441718453613233355261671899136"
      ]
     },
     "execution_count": 7,
     "metadata": {},
     "output_type": "execute_result"
    }
   ],
   "source": [
    "35454562248599752852856487528746**38"
   ]
  },
  {
   "cell_type": "code",
   "execution_count": 8,
   "id": "49d061be",
   "metadata": {},
   "outputs": [
    {
     "data": {
      "text/plain": [
       "11917181465089.99"
      ]
     },
     "execution_count": 8,
     "metadata": {},
     "output_type": "execute_result"
    }
   ],
   "source": [
    "(35559393-44555)*335555-3455/345558"
   ]
  },
  {
   "cell_type": "code",
   "execution_count": 9,
   "id": "71c81303",
   "metadata": {},
   "outputs": [
    {
     "data": {
      "text/plain": [
       "1"
      ]
     },
     "execution_count": 9,
     "metadata": {},
     "output_type": "execute_result"
    }
   ],
   "source": [
    "9%2"
   ]
  },
  {
   "cell_type": "code",
   "execution_count": 10,
   "id": "e7735903",
   "metadata": {},
   "outputs": [
    {
     "data": {
      "text/plain": [
       "-1.5"
      ]
     },
     "execution_count": 10,
     "metadata": {},
     "output_type": "execute_result"
    }
   ],
   "source": [
    "1/2 * 8 -4 -1/2 * 3"
   ]
  },
  {
   "cell_type": "code",
   "execution_count": 11,
   "id": "71c4627c",
   "metadata": {},
   "outputs": [
    {
     "data": {
      "text/plain": [
       "4.5"
      ]
     },
     "execution_count": 11,
     "metadata": {},
     "output_type": "execute_result"
    }
   ],
   "source": [
    "9/2"
   ]
  },
  {
   "cell_type": "code",
   "execution_count": 12,
   "id": "e8d6c21b",
   "metadata": {},
   "outputs": [
    {
     "data": {
      "text/plain": [
       "5.0"
      ]
     },
     "execution_count": 12,
     "metadata": {},
     "output_type": "execute_result"
    }
   ],
   "source": [
    "(25)**(1/2)"
   ]
  },
  {
   "cell_type": "code",
   "execution_count": 13,
   "id": "f7ccd77a",
   "metadata": {},
   "outputs": [
    {
     "data": {
      "text/plain": [
       "3.9999999999999996"
      ]
     },
     "execution_count": 13,
     "metadata": {},
     "output_type": "execute_result"
    }
   ],
   "source": [
    "(64)**(1/3)"
   ]
  },
  {
   "cell_type": "code",
   "execution_count": 14,
   "id": "bea6a1e4",
   "metadata": {},
   "outputs": [
    {
     "name": "stdout",
     "output_type": "stream",
     "text": [
      "Addition:  3\n",
      "Subtraction:  1\n",
      "Multiplication:  6\n",
      "Division:  2.0\n",
      "Division:  3.0\n",
      "Division:  3.5\n",
      "Division without the remainder:  3\n",
      "Division without the remainder:  2\n",
      "Modulus:  1\n",
      "Exponentiation:  8\n"
     ]
    }
   ],
   "source": [
    "# Arithmetic Operations in Python\n",
    "# Integers\n",
    "\n",
    "print('Addition: ', 1 + 2)        # 3\n",
    "print('Subtraction: ', 2 - 1)     # 1\n",
    "print('Multiplication: ', 2 * 3)  # 6\n",
    "print ('Division: ', 4 / 2)       # 2.0  Division in Python gives floating number\n",
    "print('Division: ', 6 / 2)        # 3.0         \n",
    "print('Division: ', 7 / 2)        # 3.5\n",
    "print('Division without the remainder: ', 7 // 2)   # 3,  gives without the floating number or without the remaining\n",
    "print ('Division without the remainder: ',7 // 3)   # 2\n",
    "print('Modulus: ', 3 % 2)         # 1, Gives the remainder\n",
    "print('Exponentiation: ', 2 ** 3) # 9 it means 2 * 2 * 2"
   ]
  },
  {
   "cell_type": "markdown",
   "id": "62bfeba6",
   "metadata": {},
   "source": [
    "### Variable\n",
    "**Python Variable:** is contrainers that store value. Python is not **Statically typed**.\\\n",
    "We do not need to declare variables before using them or declare their type.\n"
   ]
  },
  {
   "cell_type": "markdown",
   "id": "9defea9c",
   "metadata": {},
   "source": [
    "Python Variable Name Rules\n",
    "\n",
    "- A variable name must start with a letter or the underscore character\n",
    "- A variable name cannot start with a number\n",
    "- A variable name can only contain alpha-numeric characters and underscores (A-z, 0-9, and _ )\n",
    "- Variable names are case-sensitive (firstname, Firstname, FirstName and FIRSTNAME) are different variables)\n",
    "\n",
    "Here are some example of valid variable names:"
   ]
  },
  {
   "cell_type": "code",
   "execution_count": null,
   "id": "9ba84742",
   "metadata": {},
   "outputs": [],
   "source": [
    "firstname\n",
    "lastname\n",
    "age\n",
    "country\n",
    "city\n",
    "first_name\n",
    "last_name\n",
    "capital_city\n",
    "_if # if we want to use reserved word as a variable\n",
    "year_2021\n",
    "year2021\n",
    "current_year_2021\n",
    "birth_year\n",
    "num1\n",
    "num2"
   ]
  },
  {
   "cell_type": "code",
   "execution_count": null,
   "id": "eec005dc",
   "metadata": {},
   "outputs": [],
   "source": [
    "##Invalid variables names\n",
    "first-name\n",
    "first@name\n",
    "first$name\n",
    "num-1\n",
    "1num"
   ]
  },
  {
   "cell_type": "code",
   "execution_count": 16,
   "id": "3c4a30b5",
   "metadata": {},
   "outputs": [],
   "source": [
    "age = 16"
   ]
  },
  {
   "cell_type": "code",
   "execution_count": 17,
   "id": "605c84c3",
   "metadata": {},
   "outputs": [
    {
     "data": {
      "text/plain": [
       "16"
      ]
     },
     "execution_count": 17,
     "metadata": {},
     "output_type": "execute_result"
    }
   ],
   "source": [
    "age"
   ]
  },
  {
   "cell_type": "code",
   "execution_count": null,
   "id": "817c8a12",
   "metadata": {},
   "outputs": [],
   "source": [
    "a = 6"
   ]
  },
  {
   "cell_type": "code",
   "execution_count": 18,
   "id": "f1eb6677",
   "metadata": {},
   "outputs": [],
   "source": [
    "a= -6\n",
    "b = -4"
   ]
  },
  {
   "cell_type": "code",
   "execution_count": 19,
   "id": "6c9a2ec9",
   "metadata": {},
   "outputs": [
    {
     "data": {
      "text/plain": [
       "10"
      ]
     },
     "execution_count": 19,
     "metadata": {},
     "output_type": "execute_result"
    }
   ],
   "source": [
    "- a - b"
   ]
  },
  {
   "cell_type": "code",
   "execution_count": 20,
   "id": "8580a74b",
   "metadata": {},
   "outputs": [
    {
     "data": {
      "text/plain": [
       "24"
      ]
     },
     "execution_count": 20,
     "metadata": {},
     "output_type": "execute_result"
    }
   ],
   "source": [
    "a* b"
   ]
  },
  {
   "cell_type": "code",
   "execution_count": 21,
   "id": "f8220f96",
   "metadata": {},
   "outputs": [],
   "source": [
    "a = 3432894278524\n",
    "b =  4348934574847832235.34293275872343"
   ]
  },
  {
   "cell_type": "code",
   "execution_count": 23,
   "id": "4c589582",
   "metadata": {},
   "outputs": [
    {
     "name": "stdout",
     "output_type": "stream",
     "text": [
      "Manon Ya Phnom Penh 25 False\n",
      "First name: Manon\n",
      "Last name:  Ya\n",
      "Country:  Phnom Penh\n",
      "Age:  25\n",
      "Married:  False\n"
     ]
    }
   ],
   "source": [
    "first_name, last_name, country, age, is_married = 'Manon', 'Ya', 'Phnom Penh', 25, False\n",
    "\n",
    "print(first_name, last_name, country, age, is_married)\n",
    "print('First name:', first_name)\n",
    "print('Last name: ', last_name)\n",
    "print('Country: ', country)\n",
    "print('Age: ', age)\n",
    "print('Married: ', is_married)"
   ]
  },
  {
   "cell_type": "code",
   "execution_count": 24,
   "id": "04c2e6f2",
   "metadata": {},
   "outputs": [
    {
     "name": "stdout",
     "output_type": "stream",
     "text": [
      "First name: Manon\n"
     ]
    }
   ],
   "source": [
    "print('First name:', first_name)\n"
   ]
  },
  {
   "cell_type": "code",
   "execution_count": 25,
   "id": "c9ac8e57",
   "metadata": {},
   "outputs": [
    {
     "name": "stdout",
     "output_type": "stream",
     "text": [
      "Last name:  Ya\n"
     ]
    }
   ],
   "source": [
    "print('Last name: ', last_name)"
   ]
  },
  {
   "cell_type": "code",
   "execution_count": 26,
   "id": "6c0ec0e6",
   "metadata": {},
   "outputs": [
    {
     "name": "stdout",
     "output_type": "stream",
     "text": [
      "Country:  Phnom Penh\n"
     ]
    }
   ],
   "source": [
    "print('Country: ', country)\n"
   ]
  },
  {
   "cell_type": "code",
   "execution_count": 27,
   "id": "ae49495c",
   "metadata": {},
   "outputs": [
    {
     "name": "stdout",
     "output_type": "stream",
     "text": [
      "Age:  25\n"
     ]
    }
   ],
   "source": [
    "print('Age: ', age)\n"
   ]
  },
  {
   "cell_type": "code",
   "execution_count": 28,
   "id": "f2cfb674",
   "metadata": {},
   "outputs": [
    {
     "name": "stdout",
     "output_type": "stream",
     "text": [
      "Married:  False\n"
     ]
    }
   ],
   "source": [
    "print('Married: ', is_married)"
   ]
  },
  {
   "cell_type": "code",
   "execution_count": 29,
   "id": "fa4afd9b",
   "metadata": {},
   "outputs": [
    {
     "name": "stdout",
     "output_type": "stream",
     "text": [
      "this is:  3432894278524\n"
     ]
    }
   ],
   "source": [
    "print('this is: ', a)"
   ]
  },
  {
   "cell_type": "code",
   "execution_count": 30,
   "id": "ce260a69",
   "metadata": {},
   "outputs": [
    {
     "name": "stdout",
     "output_type": "stream",
     "text": [
      "This is:  4.348934574847832e+18\n"
     ]
    }
   ],
   "source": [
    "print('This is: ', b)"
   ]
  },
  {
   "cell_type": "code",
   "execution_count": 31,
   "id": "3048a717",
   "metadata": {},
   "outputs": [
    {
     "name": "stdout",
     "output_type": "stream",
     "text": [
      "this is  3432894278524\n",
      "This is  4.348934574847832e+18\n",
      "This is (a- b) -4.3489311419535534e+18\n",
      "this is (a * b) 1.4929432619670327e+31\n",
      "this is (a+b) 4.3489380077421107e+18\n"
     ]
    }
   ],
   "source": [
    "print('this is ', a)\n",
    "print('This is ', b)\n",
    "print( \"This is (a- b)\", a-b)\n",
    "print('this is (a * b)', a*b)\n",
    "print('this is (a+b)', a+ b)"
   ]
  },
  {
   "cell_type": "code",
   "execution_count": 32,
   "id": "09215b4a",
   "metadata": {},
   "outputs": [],
   "source": [
    "x = 5\n",
    "y = 10\n",
    "z = x + y"
   ]
  },
  {
   "cell_type": "markdown",
   "id": "6fdace75",
   "metadata": {},
   "source": [
    "area = 0.5 * base * height"
   ]
  },
  {
   "cell_type": "code",
   "execution_count": 33,
   "id": "bf8b1b88",
   "metadata": {},
   "outputs": [
    {
     "name": "stdout",
     "output_type": "stream",
     "text": [
      "This is Area of Triangle  5.070728694987195e+35\n"
     ]
    }
   ],
   "source": [
    "b = 3221412895713587483631513\n",
    "h = 314813956431\n",
    "area = 0.5 * b * h\n",
    "print('This is Area of Triangle ', area)"
   ]
  },
  {
   "cell_type": "code",
   "execution_count": 34,
   "id": "704b7b4a",
   "metadata": {},
   "outputs": [
    {
     "name": "stdout",
     "output_type": "stream",
     "text": [
      "My name is  Manon\n",
      "My age: 23\n"
     ]
    },
    {
     "data": {
      "text/plain": [
       "3221412895713587483631513"
      ]
     },
     "execution_count": 34,
     "metadata": {},
     "output_type": "execute_result"
    }
   ],
   "source": [
    "name = 'Manon'\n",
    "age = 23\n",
    "print('My name is ', name);\n",
    "print('My age:', age)\n",
    "b"
   ]
  },
  {
   "cell_type": "code",
   "execution_count": 35,
   "id": "41810c48",
   "metadata": {},
   "outputs": [
    {
     "name": "stdout",
     "output_type": "stream",
     "text": [
      "My name is: Manon my age: 23\n"
     ]
    }
   ],
   "source": [
    "print('My name is:', name, 'my age:', age)"
   ]
  },
  {
   "cell_type": "code",
   "execution_count": 36,
   "id": "b6cb4c73",
   "metadata": {},
   "outputs": [
    {
     "name": "stdout",
     "output_type": "stream",
     "text": [
      "5\n",
      "a + b =  5\n",
      "a - b =  1\n",
      "a * b =  6\n",
      "a / b =  1.5\n",
      "a % b =  1\n",
      "a // b =  1\n",
      "a ** b =  9\n"
     ]
    }
   ],
   "source": [
    "# Declaring the variable at the top first\n",
    "\n",
    "a = 3 # a is a variable name and 3 is an integer data type\n",
    "b = 2 # b is a variable name and 3 is an integer data type\n",
    "\n",
    "# Arithmetic operations and assigning the result to a variable\n",
    "total = a + b\n",
    "diff = a - b\n",
    "product = a * b\n",
    "division = a / b\n",
    "remainder = a % b\n",
    "floor_division = a // b\n",
    "exponential = a ** b\n",
    "\n",
    "# I should have used sum instead of total but sum is a built-in function - try to avoid overriding built-in functions\n",
    "print(total) # if you do not label your print with some string, you never know where the result is coming from\n",
    "print('a + b = ', total)\n",
    "print('a - b = ', diff)\n",
    "print('a * b = ', product)\n",
    "print('a / b = ', division)\n",
    "print('a % b = ', remainder)\n",
    "print('a // b = ', floor_division)\n",
    "print('a ** b = ', exponential)"
   ]
  },
  {
   "cell_type": "code",
   "execution_count": 37,
   "id": "01df4953",
   "metadata": {},
   "outputs": [
    {
     "name": "stdout",
     "output_type": "stream",
     "text": [
      "== Addition, Subtraction, Multiplication, Division, Modulus ==\n",
      "total:  7\n",
      "difference:  1\n",
      "product:  12\n",
      "division:  1.3333333333333333\n",
      "remainder:  1\n"
     ]
    }
   ],
   "source": [
    "print('== Addition, Subtraction, Multiplication, Division, Modulus ==')\n",
    "\n",
    "# Declaring values and organizing them together\n",
    "num_one = 3\n",
    "num_two = 4\n",
    "\n",
    "# Arithmetic operations\n",
    "total = num_one + num_two\n",
    "diff = num_two - num_one\n",
    "product = num_one * num_two\n",
    "div = num_two / num_one\n",
    "remainder = num_two % num_one\n",
    "\n",
    "# Printing values with label\n",
    "print('total: ', total)\n",
    "print('difference: ', diff)\n",
    "print('product: ', product)\n",
    "print('division: ', div)\n",
    "print('remainder: ', remainder)"
   ]
  },
  {
   "cell_type": "code",
   "execution_count": null,
   "id": "1314c145",
   "metadata": {},
   "outputs": [],
   "source": []
  }
 ],
 "metadata": {
  "kernelspec": {
   "display_name": "Python 3 (ipykernel)",
   "language": "python",
   "name": "python3"
  },
  "language_info": {
   "codemirror_mode": {
    "name": "ipython",
    "version": 3
   },
   "file_extension": ".py",
   "mimetype": "text/x-python",
   "name": "python",
   "nbconvert_exporter": "python",
   "pygments_lexer": "ipython3",
   "version": "3.10.9"
  }
 },
 "nbformat": 4,
 "nbformat_minor": 5
}
