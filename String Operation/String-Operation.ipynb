{
 "cells": [
  {
   "cell_type": "markdown",
   "id": "55bce75d",
   "metadata": {},
   "source": [
    "# Python_Strings\n",
    "## Objectives\n",
    "\n",
    "After completing this lab you will be able to:\n",
    "\n",
    "*   Work with Strings\n",
    "*   Perform operations on String\n",
    "*   Manipulate Strings using indexing and escape sequences\n"
   ]
  },
  {
   "cell_type": "markdown",
   "id": "3dfba604",
   "metadata": {},
   "source": [
    "## Table of contents\n",
    "- [Strings](#strings)\n",
    "    - [Creating a String](#creating-a-string)\n",
    "    - [String Concatenation](#string-concatenation)\n",
    "    - [Escape Sequences in Strings](#escape-sequences-in-strings)\n",
    "    - [String formatting](#string-formatting)\n",
    "      - [Old Style String Formatting (% Operator)](#old-style-string-formatting--operator)\n",
    "      - [New Style String Formatting (str.format)](#new-style-string-formatting-strformat)\n",
    "      - [String Interpolation / f-Strings (Python 3.6+)](#string-interpolation--f-strings-python-36)\n",
    "    - [Python Strings as Sequences of Characters](#python-strings-as-sequences-of-characters)\n",
    "      - [Unpacking Characters](#unpacking-characters)\n",
    "      - [Accessing Characters in Strings by Index](#accessing-characters-in-strings-by-index)\n",
    "      - [Slicing Python Strings](#slicing-python-strings)\n",
    "      - [Reversing a String](#reversing-a-string)\n",
    "      - [Skipping Characters While Slicing](#skipping-characters-while-slicing)\n",
    "    - [String Methods](#string-methods)"
   ]
  },
  {
   "cell_type": "markdown",
   "id": "4cb1c850",
   "metadata": {},
   "source": [
    "<a id='strings'> </a>\n",
    "## Strings\n",
    "Text is a string data type. Any data type written as text is a string. Any data under single, double or triple quote are strings. There are different string methods and built-in functions to deal with string data types. To check the length of a string use the len() method.\n"
   ]
  },
  {
   "cell_type": "markdown",
   "id": "203a22d5",
   "metadata": {},
   "source": [
    "<a id='creating-a-string'></a>\n",
    "### Creating a String"
   ]
  },
  {
   "cell_type": "code",
   "execution_count": null,
   "id": "4e0f1780",
   "metadata": {},
   "outputs": [],
   "source": [
    "a = 6"
   ]
  },
  {
   "cell_type": "code",
   "execution_count": null,
   "id": "20417148",
   "metadata": {},
   "outputs": [],
   "source": [
    "a = -6"
   ]
  },
  {
   "cell_type": "code",
   "execution_count": null,
   "id": "e84477a9",
   "metadata": {},
   "outputs": [],
   "source": [
    "a"
   ]
  },
  {
   "cell_type": "code",
   "execution_count": null,
   "id": "6b7b7f54",
   "metadata": {},
   "outputs": [],
   "source": [
    "letter = 'P'"
   ]
  },
  {
   "cell_type": "code",
   "execution_count": null,
   "id": "617d0194",
   "metadata": {},
   "outputs": [],
   "source": [
    "type(letter)"
   ]
  },
  {
   "cell_type": "code",
   "execution_count": null,
   "id": "10e4e992",
   "metadata": {},
   "outputs": [],
   "source": [
    "letter = 'P'\n",
    "type(letter)"
   ]
  },
  {
   "cell_type": "code",
   "execution_count": null,
   "id": "927574c6",
   "metadata": {},
   "outputs": [],
   "source": [
    "letter"
   ]
  },
  {
   "cell_type": "code",
   "execution_count": null,
   "id": "9d9b1966",
   "metadata": {},
   "outputs": [],
   "source": [
    "letter = 'ab  '\n",
    "letter"
   ]
  },
  {
   "cell_type": "code",
   "execution_count": null,
   "id": "0e507636",
   "metadata": {},
   "outputs": [],
   "source": [
    "type , print()"
   ]
  },
  {
   "cell_type": "code",
   "execution_count": null,
   "id": "e052f3c9",
   "metadata": {},
   "outputs": [],
   "source": [
    "len('p')"
   ]
  },
  {
   "cell_type": "code",
   "execution_count": null,
   "id": "8531d189",
   "metadata": {},
   "outputs": [],
   "source": [
    "len(letter)"
   ]
  },
  {
   "cell_type": "code",
   "execution_count": null,
   "id": "8d64cc50",
   "metadata": {},
   "outputs": [],
   "source": [
    "greeting = 'Hello, World!' \n",
    "print(greeting)    "
   ]
  },
  {
   "cell_type": "code",
   "execution_count": null,
   "id": "7215df0a",
   "metadata": {},
   "outputs": [],
   "source": [
    "greeting = 'Hello, World!'\n",
    "print(greeting)\n"
   ]
  },
  {
   "cell_type": "code",
   "execution_count": null,
   "id": "b7c544e1",
   "metadata": {},
   "outputs": [],
   "source": [
    "greeting"
   ]
  },
  {
   "cell_type": "code",
   "execution_count": null,
   "id": "c89f43bc",
   "metadata": {},
   "outputs": [],
   "source": [
    "greeting"
   ]
  },
  {
   "cell_type": "code",
   "execution_count": null,
   "id": "82968d05",
   "metadata": {},
   "outputs": [],
   "source": [
    "len(greeting)"
   ]
  },
  {
   "cell_type": "code",
   "execution_count": 1,
   "id": "439d41c7",
   "metadata": {},
   "outputs": [
    {
     "data": {
      "text/plain": [
       "'I hope you are enjoying with learning python'"
      ]
     },
     "execution_count": 1,
     "metadata": {},
     "output_type": "execute_result"
    }
   ],
   "source": [
    "sentence = \"I hope you are enjoying with learning python\"\n",
    "sentence"
   ]
  },
  {
   "cell_type": "code",
   "execution_count": 2,
   "id": "a6195b34",
   "metadata": {},
   "outputs": [
    {
     "data": {
      "text/plain": [
       "44"
      ]
     },
     "execution_count": 2,
     "metadata": {},
     "output_type": "execute_result"
    }
   ],
   "source": [
    "len(sentence)"
   ]
  },
  {
   "cell_type": "code",
   "execution_count": 3,
   "id": "285f5cc6",
   "metadata": {},
   "outputs": [
    {
     "data": {
      "text/plain": [
       "'I hope you are enjoying with learning python'"
      ]
     },
     "execution_count": 3,
     "metadata": {},
     "output_type": "execute_result"
    }
   ],
   "source": [
    "sentence"
   ]
  },
  {
   "cell_type": "code",
   "execution_count": null,
   "id": "d5bdda2a",
   "metadata": {},
   "outputs": [],
   "source": [
    "sentence"
   ]
  },
  {
   "cell_type": "code",
   "execution_count": null,
   "id": "441dc3be",
   "metadata": {},
   "outputs": [],
   "source": []
  },
  {
   "cell_type": "code",
   "execution_count": 4,
   "id": "63c11294",
   "metadata": {},
   "outputs": [
    {
     "name": "stdout",
     "output_type": "stream",
     "text": [
      "I hope you are enjoying with learning python\n"
     ]
    },
    {
     "data": {
      "text/plain": [
       "'I hope you are enjoying with learning python'"
      ]
     },
     "execution_count": 4,
     "metadata": {},
     "output_type": "execute_result"
    }
   ],
   "source": [
    "print(sentence)\n",
    "sentence"
   ]
  },
  {
   "cell_type": "code",
   "execution_count": 5,
   "id": "15a87454",
   "metadata": {},
   "outputs": [
    {
     "data": {
      "text/plain": [
       "44"
      ]
     },
     "execution_count": 5,
     "metadata": {},
     "output_type": "execute_result"
    }
   ],
   "source": [
    "len(sentence)"
   ]
  },
  {
   "cell_type": "code",
   "execution_count": 8,
   "id": "daa72449",
   "metadata": {},
   "outputs": [
    {
     "ename": "SyntaxError",
     "evalue": "unterminated string literal (detected at line 1) (1803445695.py, line 1)",
     "output_type": "error",
     "traceback": [
      "\u001b[1;36m  Cell \u001b[1;32mIn[8], line 1\u001b[1;36m\u001b[0m\n\u001b[1;33m    B = 'In a sample of 100 on-the-job fata\u001b[0m\n\u001b[1;37m        ^\u001b[0m\n\u001b[1;31mSyntaxError\u001b[0m\u001b[1;31m:\u001b[0m unterminated string literal (detected at line 1)\n"
     ]
    }
   ],
   "source": [
    "B = 'In a sample of 100 on-the-job fata\n",
    "lities, 90% of the victim\n",
    "s were men'\n",
    "len(B)"
   ]
  },
  {
   "cell_type": "code",
   "execution_count": 7,
   "id": "1806040c",
   "metadata": {},
   "outputs": [],
   "source": [
    "b = '''In a sample of 100 on-the-job fata\n",
    "lities, 90% of the victim\n",
    "s were men'''"
   ]
  },
  {
   "cell_type": "code",
   "execution_count": 10,
   "id": "75c334d0",
   "metadata": {},
   "outputs": [
    {
     "name": "stdout",
     "output_type": "stream",
     "text": [
      "In a sample of 100 on-the-job fata\n",
      "lities, 90% of the victim\n",
      "s were men\n"
     ]
    }
   ],
   "source": [
    "print(b)"
   ]
  },
  {
   "cell_type": "markdown",
   "id": "7bbee2dc",
   "metadata": {},
   "source": [
    "Multiline string is created by using triple single (''') or triple double quotes (\"\"\"). See the example below."
   ]
  },
  {
   "cell_type": "code",
   "execution_count": null,
   "id": "49c70660",
   "metadata": {},
   "outputs": [],
   "source": [
    "print('In a sample of 100\n",
    "on-the-job fatalit\n",
    "\n",
    "\n",
    "\n",
    "ies, 90% of the vic\n",
    "\n",
    "\n",
    "\n",
    "tims were men')"
   ]
  },
  {
   "cell_type": "code",
   "execution_count": 11,
   "id": "134c779c",
   "metadata": {},
   "outputs": [
    {
     "name": "stdout",
     "output_type": "stream",
     "text": [
      "In a samp\n",
      "\n",
      "\n",
      "\n",
      "\n",
      "le of 100\n",
      "on\n",
      "-the-job fat\n",
      "alit\n",
      "\n",
      "\n",
      "ies, 90% of the victims were men\n"
     ]
    }
   ],
   "source": [
    "print('''In a samp\n",
    "\n",
    "\n",
    "\n",
    "\n",
    "le of 100\n",
    "on\n",
    "-the-job fat\n",
    "alit\n",
    "\n",
    "\n",
    "ies, 90% of the victims were men''')\n"
   ]
  },
  {
   "cell_type": "markdown",
   "id": "36eebe69",
   "metadata": {},
   "source": [
    "<a id='string-concatenation'></a>\n",
    "### String Concatenation\n",
    "\n",
    "We can connect strings together. Merging or connecting strings is called concatenation. See the example below:"
   ]
  },
  {
   "cell_type": "code",
   "execution_count": 18,
   "id": "8226295e",
   "metadata": {},
   "outputs": [],
   "source": [
    "first_name = 'Manon'\n",
    "last_name = 'YA'\n",
    "spac = ' '\n",
    "full_name =last_name +spac+  first_name"
   ]
  },
  {
   "cell_type": "code",
   "execution_count": 19,
   "id": "ef09be53",
   "metadata": {},
   "outputs": [
    {
     "data": {
      "text/plain": [
       "'YA Manon'"
      ]
     },
     "execution_count": 19,
     "metadata": {},
     "output_type": "execute_result"
    }
   ],
   "source": [
    "full_name"
   ]
  },
  {
   "cell_type": "code",
   "execution_count": 20,
   "id": "5e8ef4b4",
   "metadata": {},
   "outputs": [
    {
     "ename": "TypeError",
     "evalue": "can only concatenate str (not \"int\") to str",
     "output_type": "error",
     "traceback": [
      "\u001b[1;31m---------------------------------------------------------------------------\u001b[0m",
      "\u001b[1;31mTypeError\u001b[0m                                 Traceback (most recent call last)",
      "Cell \u001b[1;32mIn[20], line 1\u001b[0m\n\u001b[1;32m----> 1\u001b[0m \u001b[43mfirst_name\u001b[49m\u001b[43m \u001b[49m\u001b[38;5;241;43m+\u001b[39;49m\u001b[43m \u001b[49m\u001b[38;5;241;43m1\u001b[39;49m\n",
      "\u001b[1;31mTypeError\u001b[0m: can only concatenate str (not \"int\") to str"
     ]
    }
   ],
   "source": [
    "first_name + 1"
   ]
  },
  {
   "cell_type": "code",
   "execution_count": 22,
   "id": "47faa745",
   "metadata": {},
   "outputs": [
    {
     "data": {
      "text/plain": [
       "'Manon1'"
      ]
     },
     "execution_count": 22,
     "metadata": {},
     "output_type": "execute_result"
    }
   ],
   "source": [
    "first_name + str(1)"
   ]
  },
  {
   "cell_type": "code",
   "execution_count": 21,
   "id": "8e5efc03",
   "metadata": {},
   "outputs": [
    {
     "data": {
      "text/plain": [
       "2.1"
      ]
     },
     "execution_count": 21,
     "metadata": {},
     "output_type": "execute_result"
    }
   ],
   "source": [
    "1 + 1.1"
   ]
  },
  {
   "cell_type": "code",
   "execution_count": 24,
   "id": "f21adb25",
   "metadata": {},
   "outputs": [
    {
     "data": {
      "text/plain": [
       "'2'"
      ]
     },
     "execution_count": 24,
     "metadata": {},
     "output_type": "execute_result"
    }
   ],
   "source": [
    "space = str(2)\n",
    "space"
   ]
  },
  {
   "cell_type": "code",
   "execution_count": 26,
   "id": "eaed88f3",
   "metadata": {},
   "outputs": [
    {
     "data": {
      "text/plain": [
       "str"
      ]
     },
     "execution_count": 26,
     "metadata": {},
     "output_type": "execute_result"
    }
   ],
   "source": [
    "type(space)"
   ]
  },
  {
   "cell_type": "code",
   "execution_count": 27,
   "id": "e9bc6382",
   "metadata": {},
   "outputs": [],
   "source": [
    "first_name = 'Manon'\n",
    "last_name = 'YA'\n",
    "space = str(2)\n",
    "full_name= first_name+space+last_name"
   ]
  },
  {
   "cell_type": "code",
   "execution_count": 28,
   "id": "477a3341",
   "metadata": {},
   "outputs": [
    {
     "data": {
      "text/plain": [
       "'Manon2YA'"
      ]
     },
     "execution_count": 28,
     "metadata": {},
     "output_type": "execute_result"
    }
   ],
   "source": [
    "full_name"
   ]
  },
  {
   "cell_type": "code",
   "execution_count": 29,
   "id": "1eed7902",
   "metadata": {},
   "outputs": [
    {
     "data": {
      "text/plain": [
       "8"
      ]
     },
     "execution_count": 29,
     "metadata": {},
     "output_type": "execute_result"
    }
   ],
   "source": [
    "len(full_name)"
   ]
  },
  {
   "cell_type": "code",
   "execution_count": 30,
   "id": "174f6545",
   "metadata": {},
   "outputs": [
    {
     "name": "stdout",
     "output_type": "stream",
     "text": [
      "5\n"
     ]
    }
   ],
   "source": [
    "print(len(first_name))"
   ]
  },
  {
   "cell_type": "code",
   "execution_count": 31,
   "id": "20a1f552",
   "metadata": {},
   "outputs": [
    {
     "data": {
      "text/plain": [
       "2"
      ]
     },
     "execution_count": 31,
     "metadata": {},
     "output_type": "execute_result"
    }
   ],
   "source": [
    "len(last_name)"
   ]
  },
  {
   "cell_type": "code",
   "execution_count": 32,
   "id": "0b26c096",
   "metadata": {},
   "outputs": [
    {
     "data": {
      "text/plain": [
       "8"
      ]
     },
     "execution_count": 32,
     "metadata": {},
     "output_type": "execute_result"
    }
   ],
   "source": [
    "len(full_name)"
   ]
  },
  {
   "cell_type": "code",
   "execution_count": 33,
   "id": "36a3b57a",
   "metadata": {},
   "outputs": [
    {
     "data": {
      "text/plain": [
       "False"
      ]
     },
     "execution_count": 33,
     "metadata": {},
     "output_type": "execute_result"
    }
   ],
   "source": [
    "3 > 4"
   ]
  },
  {
   "cell_type": "code",
   "execution_count": 34,
   "id": "f6f819bd",
   "metadata": {},
   "outputs": [
    {
     "data": {
      "text/plain": [
       "True"
      ]
     },
     "execution_count": 34,
     "metadata": {},
     "output_type": "execute_result"
    }
   ],
   "source": [
    "9 > 4"
   ]
  },
  {
   "cell_type": "code",
   "execution_count": 35,
   "id": "1b66e35c",
   "metadata": {},
   "outputs": [
    {
     "data": {
      "text/plain": [
       "False"
      ]
     },
     "execution_count": 35,
     "metadata": {},
     "output_type": "execute_result"
    }
   ],
   "source": [
    "3 <= 2"
   ]
  },
  {
   "cell_type": "code",
   "execution_count": 36,
   "id": "afdc97cd",
   "metadata": {},
   "outputs": [
    {
     "data": {
      "text/plain": [
       "True"
      ]
     },
     "execution_count": 36,
     "metadata": {},
     "output_type": "execute_result"
    }
   ],
   "source": [
    "len(first_name) > len(last_name)"
   ]
  },
  {
   "cell_type": "code",
   "execution_count": 37,
   "id": "bceb6af5",
   "metadata": {},
   "outputs": [
    {
     "data": {
      "text/plain": [
       "True"
      ]
     },
     "execution_count": 37,
     "metadata": {},
     "output_type": "execute_result"
    }
   ],
   "source": [
    "len(first_name) > len(last_name)"
   ]
  },
  {
   "cell_type": "code",
   "execution_count": 38,
   "id": "ff987cd8",
   "metadata": {},
   "outputs": [
    {
     "data": {
      "text/plain": [
       "True"
      ]
     },
     "execution_count": 38,
     "metadata": {},
     "output_type": "execute_result"
    }
   ],
   "source": [
    "len(first_name) >= len(last_name)"
   ]
  },
  {
   "cell_type": "code",
   "execution_count": 39,
   "id": "2f2f67cf",
   "metadata": {},
   "outputs": [
    {
     "data": {
      "text/plain": [
       "False"
      ]
     },
     "execution_count": 39,
     "metadata": {},
     "output_type": "execute_result"
    }
   ],
   "source": [
    "len(first_name) < len(last_name)"
   ]
  },
  {
   "cell_type": "code",
   "execution_count": 40,
   "id": "ef76e2cd",
   "metadata": {},
   "outputs": [
    {
     "data": {
      "text/plain": [
       "False"
      ]
     },
     "execution_count": 40,
     "metadata": {},
     "output_type": "execute_result"
    }
   ],
   "source": [
    "len(first_name) <= len(last_name)"
   ]
  },
  {
   "cell_type": "code",
   "execution_count": 41,
   "id": "2a5022ea",
   "metadata": {},
   "outputs": [
    {
     "data": {
      "text/plain": [
       "False"
      ]
     },
     "execution_count": 41,
     "metadata": {},
     "output_type": "execute_result"
    }
   ],
   "source": [
    "len(first_name) == len(last_name)"
   ]
  },
  {
   "cell_type": "code",
   "execution_count": 42,
   "id": "f9ac7e23",
   "metadata": {},
   "outputs": [
    {
     "data": {
      "text/plain": [
       "True"
      ]
     },
     "execution_count": 42,
     "metadata": {},
     "output_type": "execute_result"
    }
   ],
   "source": [
    "len(first_name) != len(last_name)"
   ]
  },
  {
   "cell_type": "markdown",
   "id": "186e362b",
   "metadata": {},
   "source": [
    "<a id='escape-sequences-in-strings'></a>\n",
    "### Escape Sequences in Strings\n",
    "\n",
    "In Python and other programming languages \\ followed by a character is an escape sequence. Let us see the most common escape characters:\n",
    "\n",
    "- \\n: new line\n",
    "- \\t: Tab means(8 spaces)\n",
    "- \\\\\\\\: Back slash\n",
    "- \\\\': Single quote (')\n",
    "- \\\\\": Double quote (\")\n",
    "\n",
    "Now, let us see the use of the above escape sequences with examples."
   ]
  },
  {
   "cell_type": "code",
   "execution_count": 44,
   "id": "a17b239a",
   "metadata": {},
   "outputs": [
    {
     "name": "stdout",
     "output_type": "stream",
     "text": [
      "\n",
      "I love\n",
      "cambodia\n"
     ]
    }
   ],
   "source": [
    "print('''\n",
    "I love\n",
    "cambodia''')"
   ]
  },
  {
   "cell_type": "code",
   "execution_count": 46,
   "id": "85241f9f",
   "metadata": {},
   "outputs": [
    {
     "name": "stdout",
     "output_type": "stream",
     "text": [
      "I love\n",
      "camb\\odia\n"
     ]
    }
   ],
   "source": [
    "print('I love\\ncamb\\\\odia')"
   ]
  },
  {
   "cell_type": "code",
   "execution_count": 47,
   "id": "890d7435",
   "metadata": {},
   "outputs": [
    {
     "name": "stdout",
     "output_type": "stream",
     "text": [
      "I love\n",
      "camb\\odia\n"
     ]
    }
   ],
   "source": [
    "print('I love\\ncamb\\odia')"
   ]
  },
  {
   "cell_type": "code",
   "execution_count": 45,
   "id": "065976cb",
   "metadata": {},
   "outputs": [
    {
     "name": "stdout",
     "output_type": "stream",
     "text": [
      "I love\n",
      "\tcambodia\n"
     ]
    }
   ],
   "source": [
    "print('I love\\n\\tcambodia')"
   ]
  },
  {
   "cell_type": "code",
   "execution_count": null,
   "id": "b4781302",
   "metadata": {},
   "outputs": [],
   "source": [
    "print('I love\\n        cambodia')"
   ]
  },
  {
   "cell_type": "code",
   "execution_count": null,
   "id": "0d869641",
   "metadata": {},
   "outputs": [],
   "source": [
    "print('In Python there are many ways of formatting strings.\\n In this section, we will cover some of them. The \"%\" operator is used to format a set of variables enclosed in a \"tuple\" (a fixed size list), \\ntogether with a format string, \\nwhich contains normal')"
   ]
  },
  {
   "cell_type": "code",
   "execution_count": null,
   "id": "28fab533",
   "metadata": {},
   "outputs": [],
   "source": [
    "print('In Python there are \\tmany\\n ways of')"
   ]
  },
  {
   "cell_type": "code",
   "execution_count": null,
   "id": "c80c4167",
   "metadata": {},
   "outputs": [],
   "source": [
    "print(len('a\\ta'))"
   ]
  },
  {
   "cell_type": "code",
   "execution_count": null,
   "id": "714d6a00",
   "metadata": {},
   "outputs": [],
   "source": [
    "print(len('a       a'))"
   ]
  },
  {
   "cell_type": "code",
   "execution_count": null,
   "id": "4bb54373",
   "metadata": {},
   "outputs": [],
   "source": [
    "print('I hope everyone is enjoying the Python Challenge.\\nAre you ?') # line break\n",
    "print('Days\\tTopics\\tExercises') # adding tab space or 4 spaces \n",
    "print('Day 1\\t5\\t5')\n",
    "print('Day 2\\t6\\t20')\n",
    "print('Day 3\\t5\\t23')\n",
    "print('Day 4\\t1\\t35')\n",
    "print('This is a backslash  symbol (\\\\)') # To write a backslash\n",
    "print('In every programming language it starts with \\\"Hello, World!\\\"') # to write a double quote inside a single quote"
   ]
  },
  {
   "cell_type": "markdown",
   "id": "f02f2cef",
   "metadata": {},
   "source": [
    "\n",
    "<a id='string-formatting'></a>\n",
    "### String formatting\n",
    "\n",
    "#### Old Style String Formatting (% Operator)\n",
    "\n",
    "In Python there are many ways of formatting strings. In this section, we will cover some of them.\n",
    "The \"%\" operator is used to format a set of variables enclosed in a \"tuple\" (a fixed size list), together with a format string, which contains normal text together with \"argument specifiers\", special symbols like \"%s\", \"%d\", \"%f\", \"%.<small>number of digits</small>f\".\n",
    "\n",
    "- %s - String (or any object with a string representation, like numbers)\n",
    "- %d - Integers\n",
    "- %f - Floating point numbers\n",
    "- \"%.<small>number of digits</small>f\" - Floating point numbers with fixed precision"
   ]
  },
  {
   "cell_type": "code",
   "execution_count": null,
   "id": "d6254baf",
   "metadata": {},
   "outputs": [],
   "source": [
    "first_name = 'Manon'\n",
    "last_name = 'Ya'\n",
    "language = 'Python'\n",
    "formated_string = 'I am %s %s. I teach %s' %(first_name, last_name, language)"
   ]
  },
  {
   "cell_type": "code",
   "execution_count": null,
   "id": "7c7c7180",
   "metadata": {},
   "outputs": [],
   "source": [
    "formated_string"
   ]
  },
  {
   "cell_type": "code",
   "execution_count": null,
   "id": "ecc21976",
   "metadata": {},
   "outputs": [],
   "source": [
    "formated_string"
   ]
  },
  {
   "cell_type": "code",
   "execution_count": null,
   "id": "fff7dccc",
   "metadata": {},
   "outputs": [],
   "source": [
    "first_name"
   ]
  },
  {
   "cell_type": "code",
   "execution_count": null,
   "id": "7a6e9c0d",
   "metadata": {},
   "outputs": [],
   "source": [
    "last_name"
   ]
  },
  {
   "cell_type": "code",
   "execution_count": null,
   "id": "1c7c267a",
   "metadata": {},
   "outputs": [],
   "source": [
    "language"
   ]
  },
  {
   "cell_type": "code",
   "execution_count": null,
   "id": "9429f65e",
   "metadata": {},
   "outputs": [],
   "source": [
    "radius = float(input('Please input the radius:'))"
   ]
  },
  {
   "cell_type": "code",
   "execution_count": null,
   "id": "e275cc1d",
   "metadata": {},
   "outputs": [],
   "source": [
    "import math as m\n",
    "m.factorial(24)"
   ]
  },
  {
   "cell_type": "code",
   "execution_count": null,
   "id": "cdf9645f",
   "metadata": {},
   "outputs": [],
   "source": [
    "4!"
   ]
  },
  {
   "cell_type": "code",
   "execution_count": null,
   "id": "0a6f5037",
   "metadata": {},
   "outputs": [],
   "source": [
    "4*3*2*1"
   ]
  },
  {
   "cell_type": "code",
   "execution_count": null,
   "id": "150af06a",
   "metadata": {},
   "outputs": [],
   "source": [
    "24!"
   ]
  },
  {
   "cell_type": "code",
   "execution_count": null,
   "id": "d75dd5b2",
   "metadata": {},
   "outputs": [],
   "source": [
    "m.pi"
   ]
  },
  {
   "cell_type": "code",
   "execution_count": null,
   "id": "add55e5a",
   "metadata": {},
   "outputs": [],
   "source": [
    "1*2*3*4"
   ]
  },
  {
   "cell_type": "code",
   "execution_count": null,
   "id": "60585ae3",
   "metadata": {},
   "outputs": [],
   "source": [
    "3.14"
   ]
  },
  {
   "cell_type": "code",
   "execution_count": null,
   "id": "89b9c60a",
   "metadata": {},
   "outputs": [],
   "source": [
    "radius = int(input('Please input the radius:'))\n",
    "pi = m.pi\n",
    "area = pi * radius ** 2\n",
    "formated_string = 'The area of circle with a radius %d is %f.' %(radius, area)\n",
    "formated_string"
   ]
  },
  {
   "cell_type": "code",
   "execution_count": null,
   "id": "8c2e1972",
   "metadata": {},
   "outputs": [],
   "source": [
    "radius = float(input('Please input the radius:'))\n",
    "pi = 3.14\n",
    "area = pi * radius ** 2\n",
    "formated_string = 'The area of circle with a radius %d is %.3f.' %(radius, area)\n",
    "formated_string"
   ]
  },
  {
   "cell_type": "code",
   "execution_count": null,
   "id": "87ef802a",
   "metadata": {},
   "outputs": [],
   "source": []
  },
  {
   "cell_type": "markdown",
   "id": "bd2082fe",
   "metadata": {},
   "source": [
    "#### New Style String Formatting (str.format)\n",
    "\n",
    "This formatting is introduced in Python version 3.\n"
   ]
  },
  {
   "cell_type": "code",
   "execution_count": null,
   "id": "3182f409",
   "metadata": {},
   "outputs": [],
   "source": [
    "first_name = 'Manon'\n",
    "last_name = 'Ya'\n",
    "language = 'Python'\n",
    "formated_string = 'I am {} {}. I teach {}'.format(first_name, last_name, language)\n",
    "print(formated_string)\n"
   ]
  },
  {
   "cell_type": "code",
   "execution_count": null,
   "id": "6f87f231",
   "metadata": {},
   "outputs": [],
   "source": [
    "a = 4\n",
    "b = 3\n",
    "\n",
    "print('{} + {} = {}'.format(a, b, a + b))\n",
    "print('{} - {} = {}'.format(a, b, a - b))\n",
    "print('{} * {} = {}'.format(a, b, a * b))\n",
    "print('{} / {} = {:.2f}'.format(a, b, a / b)) # limits it to two digits after decimal\n",
    "print('{} % {} = {}'.format(a, b, a % b))\n",
    "print('{} // {} = {}'.format(a, b, a // b))\n",
    "print('{} ** {} = {}'.format(a, b, a ** b"
   ]
  },
  {
   "cell_type": "code",
   "execution_count": null,
   "id": "44a9b207",
   "metadata": {},
   "outputs": [],
   "source": [
    "4//3"
   ]
  },
  {
   "cell_type": "code",
   "execution_count": null,
   "id": "9e8388f7",
   "metadata": {},
   "outputs": [],
   "source": [
    "5//2"
   ]
  },
  {
   "cell_type": "code",
   "execution_count": null,
   "id": "aecbbb04",
   "metadata": {},
   "outputs": [],
   "source": [
    "radius = 10\n",
    "pi = 3.14\n",
    "area = pi * radius ** 2\n",
    "formated_string = 'The area of a circle with a radius {} is {:.2f}.'.format(radius, area) # 2 digits after decimal\n",
    "print(formated_string)\n",
    "\n"
   ]
  },
  {
   "cell_type": "markdown",
   "id": "0af7038b",
   "metadata": {},
   "source": [
    "#### String Interpolation / f-Strings (Python 3.6+)\n",
    "\n",
    "Another new string formatting is string interpolation, f-strings. Strings start with f and we can inject the data in their corresponding positions.\n"
   ]
  },
  {
   "cell_type": "code",
   "execution_count": 48,
   "id": "5e250854",
   "metadata": {},
   "outputs": [
    {
     "name": "stdout",
     "output_type": "stream",
     "text": [
      "I love cambodia\n"
     ]
    }
   ],
   "source": [
    "print('I love cambodia')"
   ]
  },
  {
   "cell_type": "code",
   "execution_count": 49,
   "id": "e733f7ac",
   "metadata": {},
   "outputs": [],
   "source": [
    "a = 6"
   ]
  },
  {
   "cell_type": "code",
   "execution_count": 51,
   "id": "02e49bb8",
   "metadata": {},
   "outputs": [
    {
     "name": "stdout",
     "output_type": "stream",
     "text": [
      "I love cambodai 6\n"
     ]
    }
   ],
   "source": [
    "print('I love cambodai', a)"
   ]
  },
  {
   "cell_type": "code",
   "execution_count": 50,
   "id": "be753f6f",
   "metadata": {},
   "outputs": [
    {
     "name": "stdout",
     "output_type": "stream",
     "text": [
      "I love cambodia6\n"
     ]
    }
   ],
   "source": [
    "print(f'I love cambodia{a}')"
   ]
  },
  {
   "cell_type": "code",
   "execution_count": 52,
   "id": "c86323f7",
   "metadata": {},
   "outputs": [
    {
     "name": "stdout",
     "output_type": "stream",
     "text": [
      "I love cambodai 6\n"
     ]
    }
   ],
   "source": [
    "print(f'I love cambodai {a}')"
   ]
  },
  {
   "cell_type": "code",
   "execution_count": 56,
   "id": "ef4aef02",
   "metadata": {},
   "outputs": [
    {
     "name": "stdout",
     "output_type": "stream",
     "text": [
      "I love cambodai 6 My country 6 6\n"
     ]
    }
   ],
   "source": [
    "print('I love cambodai', a, 'My country', a,a)"
   ]
  },
  {
   "cell_type": "code",
   "execution_count": 55,
   "id": "2820853e",
   "metadata": {},
   "outputs": [
    {
     "name": "stdout",
     "output_type": "stream",
     "text": [
      "I love cambodai 6 My country 6 6\n"
     ]
    }
   ],
   "source": [
    "print(f'I love cambodai {a} My country {a} {a}')"
   ]
  },
  {
   "cell_type": "code",
   "execution_count": null,
   "id": "4a959197",
   "metadata": {},
   "outputs": [],
   "source": [
    "a = 4\n",
    "b = 3\n",
    "d = a + b\n",
    "print(f'this is (a + b) {a} + {b} = {d}')\n",
    "print(f'this is {a} - {b} = {a - b}')\n",
    "print(f'this is {a} * {b} = {a * b}')\n",
    "print(f'this is {a} / {b} = {a / b:.2f}')\n",
    "print(f'this is {a} % {b} = {a % b}')\n",
    "print(f'{a} // {b} = {a // b}')\n",
    "print(f'{a} ** {b} = {a ** b}')"
   ]
  },
  {
   "cell_type": "code",
   "execution_count": 62,
   "id": "6db69a25",
   "metadata": {},
   "outputs": [],
   "source": [
    "import math"
   ]
  },
  {
   "cell_type": "code",
   "execution_count": 63,
   "id": "cbe4bf81",
   "metadata": {},
   "outputs": [
    {
     "data": {
      "text/plain": [
       "3"
      ]
     },
     "execution_count": 63,
     "metadata": {},
     "output_type": "execute_result"
    }
   ],
   "source": [
    "math.ceil(9/4)"
   ]
  },
  {
   "cell_type": "code",
   "execution_count": 57,
   "id": "9ddc8015",
   "metadata": {},
   "outputs": [
    {
     "data": {
      "text/plain": [
       "3"
      ]
     },
     "execution_count": 57,
     "metadata": {},
     "output_type": "execute_result"
    }
   ],
   "source": [
    "9//3"
   ]
  },
  {
   "cell_type": "markdown",
   "id": "2ddbdf44",
   "metadata": {},
   "source": [
    "### Python Strings as Sequences of Characters\n",
    "\n",
    "Python strings are sequences of characters, and share their basic methods of access with other Python ordered sequences of objects – lists and tuples. The simplest way of extracting single characters from strings (and individual members from any sequence) is to unpack them into corresponding variables.\n",
    "\n",
    "#### Unpacking Characters"
   ]
  },
  {
   "cell_type": "code",
   "execution_count": 64,
   "id": "900aa1f0",
   "metadata": {},
   "outputs": [
    {
     "name": "stdout",
     "output_type": "stream",
     "text": [
      "P\n",
      "y\n",
      "t\n",
      "h\n",
      "o\n",
      "n\n"
     ]
    }
   ],
   "source": [
    "language = 'Python'\n",
    "a,b,c,d,e,f = language \n",
    "print(a) \n",
    "print(b) \n",
    "print(c) \n",
    "print(d)\n",
    "print(e) \n",
    "print(f) "
   ]
  },
  {
   "cell_type": "code",
   "execution_count": 66,
   "id": "c099955d",
   "metadata": {},
   "outputs": [
    {
     "data": {
      "text/plain": [
       "'P'"
      ]
     },
     "execution_count": 66,
     "metadata": {},
     "output_type": "execute_result"
    }
   ],
   "source": [
    "a\n"
   ]
  },
  {
   "cell_type": "code",
   "execution_count": 68,
   "id": "b3cb9265",
   "metadata": {},
   "outputs": [
    {
     "data": {
      "text/plain": [
       "'y'"
      ]
     },
     "execution_count": 68,
     "metadata": {},
     "output_type": "execute_result"
    }
   ],
   "source": [
    "b"
   ]
  },
  {
   "cell_type": "code",
   "execution_count": 69,
   "id": "aed2e603",
   "metadata": {},
   "outputs": [
    {
     "data": {
      "text/plain": [
       "str"
      ]
     },
     "execution_count": 69,
     "metadata": {},
     "output_type": "execute_result"
    }
   ],
   "source": [
    "type(a)"
   ]
  },
  {
   "cell_type": "code",
   "execution_count": 72,
   "id": "808e91f3",
   "metadata": {},
   "outputs": [],
   "source": [
    "name = 'Michael Jacksn'"
   ]
  },
  {
   "cell_type": "markdown",
   "id": "a1b4abba",
   "metadata": {},
   "source": [
    "### Indexing\n",
    "\n",
    "It is helpful to think of a string as an ordered sequence. Each element in the sequence can be accessed using an index represented by the array of numbers:"
   ]
  },
  {
   "cell_type": "markdown",
   "id": "fbc4d736",
   "metadata": {},
   "source": [
    "<img src=\"https://cf-courses-data.s3.us.cloud-object-storage.appdomain.cloud/IBMDeveloperSkillsNetwork-PY0101EN-SkillsNetwork/labs/Module%201/images/StringsIndex.png\" width=\"600\" align=\"center\">"
   ]
  },
  {
   "cell_type": "markdown",
   "id": "a7766559",
   "metadata": {},
   "source": [
    "#### Negative Indexing\n",
    "\n",
    "We can also use negative indexing with strings:\n",
    "\n",
    "<img src=\"https://cf-courses-data.s3.us.cloud-object-storage.appdomain.cloud/IBMDeveloperSkillsNetwork-PY0101EN-SkillsNetwork/labs/Module%201/images/StringsNeg.png\" width=\"600\" align=\"center\">\n"
   ]
  },
  {
   "cell_type": "code",
   "execution_count": 73,
   "id": "3bb5e3e9",
   "metadata": {},
   "outputs": [
    {
     "data": {
      "text/plain": [
       "'Michael Jacksn'"
      ]
     },
     "execution_count": 73,
     "metadata": {},
     "output_type": "execute_result"
    }
   ],
   "source": [
    "name"
   ]
  },
  {
   "cell_type": "code",
   "execution_count": 74,
   "id": "c27addb2",
   "metadata": {},
   "outputs": [
    {
     "data": {
      "text/plain": [
       "'M'"
      ]
     },
     "execution_count": 74,
     "metadata": {},
     "output_type": "execute_result"
    }
   ],
   "source": [
    "name[0]"
   ]
  },
  {
   "cell_type": "code",
   "execution_count": 75,
   "id": "b1cfd621",
   "metadata": {},
   "outputs": [
    {
     "data": {
      "text/plain": [
       "'i'"
      ]
     },
     "execution_count": 75,
     "metadata": {},
     "output_type": "execute_result"
    }
   ],
   "source": [
    "name[1]"
   ]
  },
  {
   "cell_type": "code",
   "execution_count": 76,
   "id": "a3599dc5",
   "metadata": {},
   "outputs": [
    {
     "data": {
      "text/plain": [
       "'e'"
      ]
     },
     "execution_count": 76,
     "metadata": {},
     "output_type": "execute_result"
    }
   ],
   "source": [
    "name[5]"
   ]
  },
  {
   "cell_type": "code",
   "execution_count": null,
   "id": "206f6a34",
   "metadata": {},
   "outputs": [],
   "source": [
    "language = 'Python'"
   ]
  },
  {
   "cell_type": "code",
   "execution_count": 77,
   "id": "b4c76af9",
   "metadata": {},
   "outputs": [
    {
     "data": {
      "text/plain": [
       "'P'"
      ]
     },
     "execution_count": 77,
     "metadata": {},
     "output_type": "execute_result"
    }
   ],
   "source": [
    "language[0]"
   ]
  },
  {
   "cell_type": "code",
   "execution_count": 78,
   "id": "af7a9315",
   "metadata": {},
   "outputs": [
    {
     "name": "stdout",
     "output_type": "stream",
     "text": [
      "P\n",
      "y\n"
     ]
    }
   ],
   "source": [
    "print(language[0])\n",
    "print(language[1])"
   ]
  },
  {
   "cell_type": "code",
   "execution_count": 80,
   "id": "ed2b9980",
   "metadata": {},
   "outputs": [
    {
     "data": {
      "text/plain": [
       "'P'"
      ]
     },
     "execution_count": 80,
     "metadata": {},
     "output_type": "execute_result"
    }
   ],
   "source": [
    "first_letter = language[0]\n",
    "first_letter"
   ]
  },
  {
   "cell_type": "code",
   "execution_count": 81,
   "id": "f088c850",
   "metadata": {},
   "outputs": [
    {
     "data": {
      "text/plain": [
       "'y'"
      ]
     },
     "execution_count": 81,
     "metadata": {},
     "output_type": "execute_result"
    }
   ],
   "source": [
    "language[1]"
   ]
  },
  {
   "cell_type": "code",
   "execution_count": 82,
   "id": "5295ae80",
   "metadata": {},
   "outputs": [
    {
     "data": {
      "text/plain": [
       "'t'"
      ]
     },
     "execution_count": 82,
     "metadata": {},
     "output_type": "execute_result"
    }
   ],
   "source": [
    "language[2]"
   ]
  },
  {
   "cell_type": "code",
   "execution_count": 83,
   "id": "ad96143f",
   "metadata": {},
   "outputs": [
    {
     "name": "stdout",
     "output_type": "stream",
     "text": [
      "y\n"
     ]
    }
   ],
   "source": [
    "second_letter = language[1]\n",
    "print(second_letter)"
   ]
  },
  {
   "cell_type": "code",
   "execution_count": 84,
   "id": "d811e704",
   "metadata": {},
   "outputs": [
    {
     "data": {
      "text/plain": [
       "14"
      ]
     },
     "execution_count": 84,
     "metadata": {},
     "output_type": "execute_result"
    }
   ],
   "source": [
    "len(name)"
   ]
  },
  {
   "cell_type": "code",
   "execution_count": 86,
   "id": "8939727f",
   "metadata": {},
   "outputs": [],
   "source": [
    "last_index = len(name)-1"
   ]
  },
  {
   "cell_type": "code",
   "execution_count": 87,
   "id": "8e0beda6",
   "metadata": {},
   "outputs": [
    {
     "data": {
      "text/plain": [
       "13"
      ]
     },
     "execution_count": 87,
     "metadata": {},
     "output_type": "execute_result"
    }
   ],
   "source": [
    "last_index"
   ]
  },
  {
   "cell_type": "code",
   "execution_count": null,
   "id": "3f7f6a10",
   "metadata": {},
   "outputs": [],
   "source": [
    "last_index = len(language) - 1\n",
    "last_letter = language[last_index]\n",
    "print(last_letter) "
   ]
  },
  {
   "cell_type": "code",
   "execution_count": null,
   "id": "0f593056",
   "metadata": {},
   "outputs": [],
   "source": [
    "language = 'Python'\n",
    "first_letter = language[0]\n",
    "print(first_letter) \n",
    "\n",
    "last_index = len(language) - 1\n",
    "last_letter = language[last_index]\n",
    "print(last_letter) "
   ]
  },
  {
   "cell_type": "markdown",
   "id": "81f2adee",
   "metadata": {},
   "source": [
    "\n",
    "#### Accessing Characters in Strings by Index\n",
    "\n",
    "In programming counting starts from zero. Therefore the first letter of a string is at zero index and the last letter of a string is the length of a string minus one.\n"
   ]
  },
  {
   "cell_type": "markdown",
   "id": "f589412e",
   "metadata": {},
   "source": [
    "If we want to start from right end we can use negative indexing. -1 is the last index.\n"
   ]
  },
  {
   "cell_type": "code",
   "execution_count": null,
   "id": "df06f2f1",
   "metadata": {},
   "outputs": [],
   "source": [
    "language = 'Python'\n",
    "last_letter = language[-1]\n",
    "print(last_letter) \n",
    "second_last = language[-2]\n",
    "print(second_last) "
   ]
  },
  {
   "cell_type": "markdown",
   "id": "5c415580",
   "metadata": {},
   "source": [
    "#### Slicing Python Strings\n",
    "\n",
    "In python we can slice strings into substrings.\n",
    "\n",
    "<img src=\"https://cf-courses-data.s3.us.cloud-object-storage.appdomain.cloud/IBMDeveloperSkillsNetwork-PY0101EN-SkillsNetwork/labs/Module%201/images/StringsSlice.png\" width=\"600\" align=\"center\">\n"
   ]
  },
  {
   "cell_type": "code",
   "execution_count": 88,
   "id": "df069c29",
   "metadata": {},
   "outputs": [
    {
     "data": {
      "text/plain": [
       "'Mich'"
      ]
     },
     "execution_count": 88,
     "metadata": {},
     "output_type": "execute_result"
    }
   ],
   "source": [
    "name = 'Michael Jackson'\n",
    "\n"
   ]
  },
  {
   "cell_type": "code",
   "execution_count": 89,
   "id": "dbe29983",
   "metadata": {},
   "outputs": [
    {
     "data": {
      "text/plain": [
       "'Michael Jackson'"
      ]
     },
     "execution_count": 89,
     "metadata": {},
     "output_type": "execute_result"
    }
   ],
   "source": [
    "name"
   ]
  },
  {
   "cell_type": "code",
   "execution_count": 90,
   "id": "3621798f",
   "metadata": {},
   "outputs": [
    {
     "data": {
      "text/plain": [
       "15"
      ]
     },
     "execution_count": 90,
     "metadata": {},
     "output_type": "execute_result"
    }
   ],
   "source": [
    "len(name)"
   ]
  },
  {
   "cell_type": "code",
   "execution_count": null,
   "id": "8dec879d",
   "metadata": {},
   "outputs": [],
   "source": [
    "len()"
   ]
  },
  {
   "cell_type": "code",
   "execution_count": 91,
   "id": "717fbc25",
   "metadata": {},
   "outputs": [
    {
     "data": {
      "text/plain": [
       "'M'"
      ]
     },
     "execution_count": 91,
     "metadata": {},
     "output_type": "execute_result"
    }
   ],
   "source": [
    "name[0:1]"
   ]
  },
  {
   "cell_type": "code",
   "execution_count": 93,
   "id": "a3118dda",
   "metadata": {},
   "outputs": [
    {
     "data": {
      "text/plain": [
       "'Michael Jackson'"
      ]
     },
     "execution_count": 93,
     "metadata": {},
     "output_type": "execute_result"
    }
   ],
   "source": [
    "name"
   ]
  },
  {
   "cell_type": "code",
   "execution_count": 92,
   "id": "7b613a6f",
   "metadata": {},
   "outputs": [
    {
     "data": {
      "text/plain": [
       "'Mi'"
      ]
     },
     "execution_count": 92,
     "metadata": {},
     "output_type": "execute_result"
    }
   ],
   "source": [
    "name[0:2]"
   ]
  },
  {
   "cell_type": "code",
   "execution_count": 94,
   "id": "ce69528b",
   "metadata": {},
   "outputs": [
    {
     "data": {
      "text/plain": [
       "'ichael Ja'"
      ]
     },
     "execution_count": 94,
     "metadata": {},
     "output_type": "execute_result"
    }
   ],
   "source": [
    "name[1:10]"
   ]
  },
  {
   "cell_type": "code",
   "execution_count": 95,
   "id": "4ce9f46c",
   "metadata": {},
   "outputs": [
    {
     "data": {
      "text/plain": [
       "'Mich'"
      ]
     },
     "execution_count": 95,
     "metadata": {},
     "output_type": "execute_result"
    }
   ],
   "source": [
    "name[:4]"
   ]
  },
  {
   "cell_type": "code",
   "execution_count": null,
   "id": "8cc9833a",
   "metadata": {},
   "outputs": [],
   "source": [
    "name[:4]"
   ]
  },
  {
   "cell_type": "code",
   "execution_count": null,
   "id": "43c3893e",
   "metadata": {},
   "outputs": [],
   "source": [
    "name[:9]"
   ]
  },
  {
   "cell_type": "code",
   "execution_count": null,
   "id": "c2e3e921",
   "metadata": {},
   "outputs": [],
   "source": [
    "name[0:3]"
   ]
  },
  {
   "cell_type": "code",
   "execution_count": null,
   "id": "fd2f0d05",
   "metadata": {},
   "outputs": [],
   "source": [
    "name[8:12]"
   ]
  },
  {
   "cell_type": "code",
   "execution_count": null,
   "id": "b5862298",
   "metadata": {},
   "outputs": [],
   "source": [
    "name[1:9]"
   ]
  },
  {
   "cell_type": "code",
   "execution_count": null,
   "id": "7ccc062a",
   "metadata": {},
   "outputs": [],
   "source": [
    "name[1:5]"
   ]
  },
  {
   "cell_type": "code",
   "execution_count": null,
   "id": "67247224",
   "metadata": {},
   "outputs": [],
   "source": []
  },
  {
   "cell_type": "markdown",
   "id": "816aa861",
   "metadata": {},
   "source": [
    "#### Stride\n",
    "\n",
    "We can also input a stride value as follows, with the '2' indicating that we are selecting every second variable:\n",
    "\n",
    "<img src=\"https://cf-courses-data.s3.us.cloud-object-storage.appdomain.cloud/IBMDeveloperSkillsNetwork-PY0101EN-SkillsNetwork/labs/Module%201/images/StringsStride.png\" width=\"600\" align=\"center\">\n"
   ]
  },
  {
   "cell_type": "markdown",
   "id": "e4467fa9",
   "metadata": {},
   "source": [
    "#### Reversing a String\n",
    "\n",
    "We can easily reverse strings in python.\n"
   ]
  },
  {
   "cell_type": "code",
   "execution_count": 96,
   "id": "04cf1436",
   "metadata": {},
   "outputs": [
    {
     "data": {
      "text/plain": [
       "'McalJcsn'"
      ]
     },
     "execution_count": 96,
     "metadata": {},
     "output_type": "execute_result"
    }
   ],
   "source": [
    "name[0:15:2]"
   ]
  },
  {
   "cell_type": "code",
   "execution_count": 97,
   "id": "ce2d12ad",
   "metadata": {},
   "outputs": [
    {
     "data": {
      "text/plain": [
       "'Michael Jackson'"
      ]
     },
     "execution_count": 97,
     "metadata": {},
     "output_type": "execute_result"
    }
   ],
   "source": [
    "name[:]"
   ]
  },
  {
   "cell_type": "code",
   "execution_count": 98,
   "id": "f9d008bd",
   "metadata": {},
   "outputs": [
    {
     "data": {
      "text/plain": [
       "'chael Jackson'"
      ]
     },
     "execution_count": 98,
     "metadata": {},
     "output_type": "execute_result"
    }
   ],
   "source": [
    "name[2:]"
   ]
  },
  {
   "cell_type": "code",
   "execution_count": 99,
   "id": "6a9befd0",
   "metadata": {},
   "outputs": [
    {
     "data": {
      "text/plain": [
       "'hael Jackson'"
      ]
     },
     "execution_count": 99,
     "metadata": {},
     "output_type": "execute_result"
    }
   ],
   "source": [
    "name[3:]"
   ]
  },
  {
   "cell_type": "code",
   "execution_count": 100,
   "id": "4f851d5b",
   "metadata": {},
   "outputs": [
    {
     "data": {
      "text/plain": [
       "'McalJcsn'"
      ]
     },
     "execution_count": 100,
     "metadata": {},
     "output_type": "execute_result"
    }
   ],
   "source": [
    "name[0::2]"
   ]
  },
  {
   "cell_type": "code",
   "execution_count": 101,
   "id": "f439b171",
   "metadata": {},
   "outputs": [
    {
     "data": {
      "text/plain": [
       "'ihe '"
      ]
     },
     "execution_count": 101,
     "metadata": {},
     "output_type": "execute_result"
    }
   ],
   "source": [
    "name[1:8:2]"
   ]
  },
  {
   "cell_type": "code",
   "execution_count": 102,
   "id": "8d1d860e",
   "metadata": {},
   "outputs": [
    {
     "data": {
      "text/plain": [
       "'c'"
      ]
     },
     "execution_count": 102,
     "metadata": {},
     "output_type": "execute_result"
    }
   ],
   "source": [
    "name[2:4:2]"
   ]
  },
  {
   "cell_type": "code",
   "execution_count": 103,
   "id": "9ff79efb",
   "metadata": {},
   "outputs": [
    {
     "data": {
      "text/plain": [
       "'ihe '"
      ]
     },
     "execution_count": 103,
     "metadata": {},
     "output_type": "execute_result"
    }
   ],
   "source": [
    "name[1:9:2]"
   ]
  },
  {
   "cell_type": "code",
   "execution_count": 104,
   "id": "89890b97",
   "metadata": {},
   "outputs": [
    {
     "data": {
      "text/plain": [
       "'i'"
      ]
     },
     "execution_count": 104,
     "metadata": {},
     "output_type": "execute_result"
    }
   ],
   "source": [
    "name[1:4:3]"
   ]
  },
  {
   "cell_type": "code",
   "execution_count": 105,
   "id": "a08e51aa",
   "metadata": {},
   "outputs": [
    {
     "data": {
      "text/plain": [
       "'calJ'"
      ]
     },
     "execution_count": 105,
     "metadata": {},
     "output_type": "execute_result"
    }
   ],
   "source": [
    "name[2:9:2]"
   ]
  },
  {
   "cell_type": "code",
   "execution_count": 107,
   "id": "97af649c",
   "metadata": {},
   "outputs": [
    {
     "data": {
      "text/plain": [
       "'Michael Jackson'"
      ]
     },
     "execution_count": 107,
     "metadata": {},
     "output_type": "execute_result"
    }
   ],
   "source": [
    "name"
   ]
  },
  {
   "cell_type": "code",
   "execution_count": 106,
   "id": "3a4cf7a9",
   "metadata": {},
   "outputs": [
    {
     "data": {
      "text/plain": [
       "'noskcaJ leahciM'"
      ]
     },
     "execution_count": 106,
     "metadata": {},
     "output_type": "execute_result"
    }
   ],
   "source": [
    "name[::-1]"
   ]
  },
  {
   "cell_type": "markdown",
   "id": "35e21e00",
   "metadata": {},
   "source": [
    "#### Skipping Characters While Slicing\n",
    "\n",
    "It is possible to skip characters while slicing by passing step argument to slice method."
   ]
  },
  {
   "cell_type": "code",
   "execution_count": null,
   "id": "c66ffa91",
   "metadata": {},
   "outputs": [],
   "source": []
  },
  {
   "cell_type": "markdown",
   "id": "9ad1e4c7",
   "metadata": {},
   "source": [
    "<a id='string-methods'></a>\n",
    "### String Methods\n",
    "\n",
    "There are many string methods which allow us to format strings. See some of the string methods in the following example: \n",
    "```py\n",
    "upper(), strip(), split(), replace(), find() , more\n",
    "```\n",
    "- **string.upper()** and string.lower(): Returns a new string with all characters in uppercase or lowercase, respectively.\n"
   ]
  },
  {
   "cell_type": "code",
   "execution_count": null,
   "id": "0cfe58aa",
   "metadata": {},
   "outputs": [],
   "source": [
    "my_string = \"Hello, World!\"\n",
    "upper_case = my_string.upper()  \n",
    "lower_case = my_string.lower() \n"
   ]
  },
  {
   "cell_type": "code",
   "execution_count": null,
   "id": "54095a6e",
   "metadata": {},
   "outputs": [],
   "source": [
    "my_string = \"Hello, World!\""
   ]
  },
  {
   "cell_type": "code",
   "execution_count": null,
   "id": "d158680f",
   "metadata": {},
   "outputs": [],
   "source": [
    "my_string.upper()"
   ]
  },
  {
   "cell_type": "code",
   "execution_count": null,
   "id": "ee36fffe",
   "metadata": {},
   "outputs": [],
   "source": [
    "my_string.lower()"
   ]
  },
  {
   "cell_type": "code",
   "execution_count": null,
   "id": "ffff8d3d",
   "metadata": {},
   "outputs": [],
   "source": [
    "upper_case"
   ]
  },
  {
   "cell_type": "code",
   "execution_count": null,
   "id": "ac6b4986",
   "metadata": {},
   "outputs": [],
   "source": [
    "lower_case"
   ]
  },
  {
   "cell_type": "markdown",
   "id": "a35207b7",
   "metadata": {},
   "source": [
    "- **string.strip()**: Returns a new string with leading and trailing whitespace removed."
   ]
  },
  {
   "cell_type": "code",
   "execution_count": null,
   "id": "779cc3be",
   "metadata": {},
   "outputs": [],
   "source": [
    "my_string = \"   Hello, World!   \"\n",
    "stripped_string = my_string.strip()  # Returns \"Hello, World!\"\n"
   ]
  },
  {
   "cell_type": "code",
   "execution_count": null,
   "id": "e293f16f",
   "metadata": {},
   "outputs": [],
   "source": [
    "original_string = \"   This is a sample string with leading and trailing spaces.   \"\n",
    "original_string.strip()"
   ]
  },
  {
   "cell_type": "code",
   "execution_count": null,
   "id": "fdd94885",
   "metadata": {},
   "outputs": [],
   "source": [
    " my_string.strip()"
   ]
  },
  {
   "cell_type": "code",
   "execution_count": null,
   "id": "d7bf4927",
   "metadata": {},
   "outputs": [],
   "source": [
    "stripped_string"
   ]
  },
  {
   "cell_type": "markdown",
   "id": "4a3be044",
   "metadata": {},
   "source": [
    "- **string.split(separator)**: Splits the string into a list of substrings based on the given separator."
   ]
  },
  {
   "cell_type": "code",
   "execution_count": null,
   "id": "9b39f819",
   "metadata": {},
   "outputs": [],
   "source": [
    "my_string = \"apple,banana,grape\"\n",
    "my_list = my_string.split(\",\")  \n",
    "my_list"
   ]
  },
  {
   "cell_type": "code",
   "execution_count": null,
   "id": "25bcf558",
   "metadata": {},
   "outputs": [],
   "source": [
    "my_string = 'apple banana grage'\n",
    "my_string.split()"
   ]
  },
  {
   "cell_type": "code",
   "execution_count": null,
   "id": "be63dc8c",
   "metadata": {},
   "outputs": [],
   "source": [
    "my_string = \"apple,banana,grape\"\n",
    "my_string.split(',')"
   ]
  },
  {
   "cell_type": "markdown",
   "id": "4ca94bbb",
   "metadata": {},
   "source": [
    "- **string.replace(old, new)**: Returns a new string with all occurrences of 'old' replaced by 'new'."
   ]
  },
  {
   "cell_type": "code",
   "execution_count": null,
   "id": "37bb5749",
   "metadata": {},
   "outputs": [],
   "source": [
    "my_string = \"Hello, World!\"\n",
    "new_string = my_string.replace(\"Hello\", \"Hi\") \n"
   ]
  },
  {
   "cell_type": "markdown",
   "id": "77b9f84c",
   "metadata": {},
   "source": [
    "- **string.find(substring)**: Returns the index of the first occurrence of the given substring in the string. Returns -1 if not found."
   ]
  },
  {
   "cell_type": "code",
   "execution_count": null,
   "id": "e360ca3a",
   "metadata": {},
   "outputs": [],
   "source": [
    "my_string = \"Hello, World!\"\n",
    "index = my_string.find(\"World\")  \n"
   ]
  },
  {
   "cell_type": "markdown",
   "id": "286cacbf",
   "metadata": {},
   "source": [
    "- **capitalize():** Converts the first character of the string to capital letter"
   ]
  },
  {
   "cell_type": "code",
   "execution_count": null,
   "id": "002d9422",
   "metadata": {},
   "outputs": [],
   "source": [
    "challenge = 'thirty days of python'\n",
    "challenge.capitalize() "
   ]
  },
  {
   "cell_type": "code",
   "execution_count": null,
   "id": "b6c262a2",
   "metadata": {},
   "outputs": [],
   "source": []
  },
  {
   "cell_type": "markdown",
   "id": "9e07d546",
   "metadata": {},
   "source": [
    "- **count():** returns occurrences of substring in string, count(substring, start=.., end=..). The start is a starting indexing for counting and end is the last index to count."
   ]
  },
  {
   "cell_type": "code",
   "execution_count": null,
   "id": "960f3d5e",
   "metadata": {},
   "outputs": [],
   "source": []
  },
  {
   "cell_type": "markdown",
   "id": "9d57b3c8",
   "metadata": {},
   "source": [
    "- **endswith():** Checks if a string ends with a specified ending"
   ]
  },
  {
   "cell_type": "code",
   "execution_count": null,
   "id": "43d3732f",
   "metadata": {},
   "outputs": [],
   "source": []
  },
  {
   "cell_type": "markdown",
   "id": "a8be056f",
   "metadata": {},
   "source": [
    "- expandtabs(): Replaces tab character with spaces, default tab size is 8. It takes tab size argument\n"
   ]
  },
  {
   "cell_type": "code",
   "execution_count": null,
   "id": "c962fe4e",
   "metadata": {},
   "outputs": [],
   "source": []
  },
  {
   "cell_type": "markdown",
   "id": "82f9b913",
   "metadata": {},
   "source": [
    "- find(): Returns the index of the first occurrence of a substring, if not found returns -1\n"
   ]
  },
  {
   "cell_type": "code",
   "execution_count": null,
   "id": "6284d3d3",
   "metadata": {},
   "outputs": [],
   "source": []
  },
  {
   "cell_type": "markdown",
   "id": "1849daef",
   "metadata": {},
   "source": [
    "- rfind(): Returns the index of the last occurrence of a substring, if not found returns -1\n"
   ]
  },
  {
   "cell_type": "code",
   "execution_count": null,
   "id": "1cc21398",
   "metadata": {},
   "outputs": [],
   "source": []
  },
  {
   "cell_type": "markdown",
   "id": "b516b0b8",
   "metadata": {},
   "source": [
    "\n",
    "\n",
    "- format(): formats string into a nicer output  \n",
    "   More about string formatting check this [link](https://www.programiz.com/python-programming/methods/string/format)"
   ]
  },
  {
   "cell_type": "code",
   "execution_count": null,
   "id": "ae91f83a",
   "metadata": {},
   "outputs": [],
   "source": []
  },
  {
   "cell_type": "markdown",
   "id": "76688596",
   "metadata": {},
   "source": [
    "- index(): Returns the lowest index of a substring, additional arguments indicate starting and ending index (default 0 and string length - 1). If the substring is not found it raises a valueError. "
   ]
  },
  {
   "cell_type": "code",
   "execution_count": null,
   "id": "32485698",
   "metadata": {},
   "outputs": [],
   "source": [
    "challenge = 'thirty days of python'\n",
    "sub_string = 'da'\n",
    "print(challenge.index(sub_string))  # 7\n",
    "# print(challenge.index(sub_string, 9)) # error"
   ]
  },
  {
   "cell_type": "markdown",
   "id": "f23846f4",
   "metadata": {},
   "source": [
    "- rindex(): Returns the highest index of a substring, additional arguments indicate starting and ending index (default 0 and string length - 1)\n"
   ]
  },
  {
   "cell_type": "code",
   "execution_count": null,
   "id": "f2d615c3",
   "metadata": {},
   "outputs": [],
   "source": [
    "challenge = 'thirty days of python'\n",
    "sub_string = 'da'\n",
    "print(challenge.rindex(sub_string))  # 8\n",
    "# print(challenge.rindex(sub_string, 9)) # error"
   ]
  },
  {
   "cell_type": "markdown",
   "id": "0e90922e",
   "metadata": {},
   "source": [
    "\n",
    "- isalnum(): Checks alphanumeric character"
   ]
  },
  {
   "cell_type": "code",
   "execution_count": null,
   "id": "965eb2ab",
   "metadata": {},
   "outputs": [],
   "source": [
    "challenge = 'ThirtyDaysPython'\n",
    "print(challenge.isalnum()) # True\n",
    "\n",
    "challenge = '30DaysPython'\n",
    "print(challenge.isalnum()) # True\n",
    "\n",
    "challenge = 'thirty days of python'\n",
    "print(challenge.isalnum()) # False, space is not an alphanumeric character\n",
    "\n",
    "challenge = 'thirty days of python 2019'\n",
    "print(challenge.isalnum()) # False"
   ]
  },
  {
   "cell_type": "markdown",
   "id": "80c1385e",
   "metadata": {},
   "source": [
    "- isalpha(): Checks if all string elements are alphabet characters (a-z and A-Z)"
   ]
  },
  {
   "cell_type": "code",
   "execution_count": null,
   "id": "8b87f1b5",
   "metadata": {},
   "outputs": [],
   "source": [
    "challenge = 'thirty days of python'\n",
    "print(challenge.isalpha()) # False, space is once again excluded\n",
    "challenge = 'ThirtyDaysPython'\n",
    "print(challenge.isalpha()) # True\n",
    "num = '123'\n",
    "print(num.isalpha())      # False"
   ]
  },
  {
   "cell_type": "markdown",
   "id": "073096f6",
   "metadata": {},
   "source": [
    "\n",
    "- isdecimal(): Checks if all characters in a string are decimal (0-9)"
   ]
  },
  {
   "cell_type": "code",
   "execution_count": null,
   "id": "254fe8d4",
   "metadata": {},
   "outputs": [],
   "source": [
    "challenge = 'thirty days of python'\n",
    "print(challenge.isdecimal())  # False\n",
    "challenge = '123'\n",
    "print(challenge.isdecimal())  # True\n",
    "challenge = '\\u00B2'\n",
    "print(challenge.isdigit())   # False\n",
    "challenge = '12 3'\n",
    "print(challenge.isdecimal())  # False, space not allowed"
   ]
  },
  {
   "cell_type": "markdown",
   "id": "c86a73e7",
   "metadata": {},
   "source": [
    "- isdigit(): Checks if all characters in a string are numbers (0-9 and some other unicode characters for numbers)"
   ]
  },
  {
   "cell_type": "code",
   "execution_count": null,
   "id": "b9f3d65a",
   "metadata": {},
   "outputs": [],
   "source": [
    "challenge = 'Thirty'\n",
    "print(challenge.isdigit()) # False\n",
    "challenge = '30'\n",
    "print(challenge.isdigit())   # True\n",
    "challenge = '\\u00B2'\n",
    "print(challenge.isdigit())   # True"
   ]
  },
  {
   "cell_type": "markdown",
   "id": "869c7bf5",
   "metadata": {},
   "source": [
    "- isnumeric(): Checks if all characters in a string are numbers or number related (just like isdigit(), just accepts more symbols, like ½)"
   ]
  },
  {
   "cell_type": "code",
   "execution_count": null,
   "id": "c966ff7b",
   "metadata": {},
   "outputs": [],
   "source": [
    "num = '10'\n",
    "print(num.isnumeric()) # True\n",
    "num = '\\u00BD' # ½\n",
    "print(num.isnumeric()) # True\n",
    "num = '10.5'\n",
    "print(num.isnumeric()) # False"
   ]
  },
  {
   "cell_type": "markdown",
   "id": "c5ab300b",
   "metadata": {},
   "source": [
    "\n",
    "- isidentifier(): Checks for a valid identifier - it checks if a string is a valid variable name\n"
   ]
  },
  {
   "cell_type": "code",
   "execution_count": null,
   "id": "48f41f42",
   "metadata": {},
   "outputs": [],
   "source": [
    "challenge = '30DaysOfPython'\n",
    "print(challenge.isidentifier()) # False, because it starts with a number\n",
    "challenge = 'thirty_days_of_python'\n",
    "print(challenge.isidentifier()) # True"
   ]
  },
  {
   "cell_type": "markdown",
   "id": "71a646a6",
   "metadata": {},
   "source": [
    "\n",
    "\n",
    "- islower(): Checks if all alphabet characters in the string are lowercase"
   ]
  },
  {
   "cell_type": "code",
   "execution_count": null,
   "id": "67839511",
   "metadata": {},
   "outputs": [],
   "source": [
    "challenge = 'thirty days of python'\n",
    "print(challenge.islower()) # True\n",
    "challenge = 'Thirty days of python'\n",
    "print(challenge.islower()) # False"
   ]
  },
  {
   "cell_type": "markdown",
   "id": "55c32297",
   "metadata": {},
   "source": [
    "\n",
    "- isupper(): Checks if all alphabet characters in the string are uppercase\n"
   ]
  },
  {
   "cell_type": "code",
   "execution_count": null,
   "id": "0e2ab24f",
   "metadata": {},
   "outputs": [],
   "source": [
    "challenge = 'thirty days of python'\n",
    "print(challenge.isupper()) #  False\n",
    "challenge = 'THIRTY DAYS OF PYTHON'\n",
    "print(challenge.isupper()) # True"
   ]
  },
  {
   "cell_type": "markdown",
   "id": "55441299",
   "metadata": {},
   "source": [
    "\n",
    "- join(): Returns a concatenated string"
   ]
  },
  {
   "cell_type": "code",
   "execution_count": null,
   "id": "978d118e",
   "metadata": {},
   "outputs": [],
   "source": [
    "web_tech = ['HTML', 'CSS', 'JavaScript', 'React']\n",
    "result = ' '.join(web_tech)\n",
    "print(result) # 'HTML CSS JavaScript React'"
   ]
  },
  {
   "cell_type": "markdown",
   "id": "9912b7cc",
   "metadata": {},
   "source": [
    "\n",
    "- strip(): Removes all given characters starting from the beginning and end of the string"
   ]
  },
  {
   "cell_type": "code",
   "execution_count": null,
   "id": "c627ab45",
   "metadata": {},
   "outputs": [],
   "source": [
    "challenge = 'thirty days of pythoonnn'\n",
    "print(challenge.strip('noth')) # 'irty days of py'"
   ]
  },
  {
   "cell_type": "markdown",
   "id": "ce553f9f",
   "metadata": {},
   "source": [
    "\n",
    "- replace(): Replaces substring with a given string\n"
   ]
  },
  {
   "cell_type": "code",
   "execution_count": null,
   "id": "9f19a1a3",
   "metadata": {},
   "outputs": [],
   "source": [
    "challenge = 'thirty days of python'\n",
    "print(challenge.replace('python', 'coding')) # 'thirty days of coding'"
   ]
  },
  {
   "cell_type": "markdown",
   "id": "4be2ea14",
   "metadata": {},
   "source": [
    "\n",
    "- split(): Splits the string, using given string or space as a separator\n"
   ]
  },
  {
   "cell_type": "code",
   "execution_count": null,
   "id": "24135f51",
   "metadata": {},
   "outputs": [],
   "source": [
    "challenge = 'thirty days of python'\n",
    "print(challenge.split()) # ['thirty', 'days', 'of', 'python']\n",
    "challenge = 'thirty, days, of, python'\n",
    "print(challenge.split(', ')) # ['thirty', 'days', 'of', 'python']"
   ]
  },
  {
   "cell_type": "markdown",
   "id": "8df2d978",
   "metadata": {},
   "source": [
    "\n",
    "- title(): Returns a title cased string"
   ]
  },
  {
   "cell_type": "code",
   "execution_count": null,
   "id": "1e209eca",
   "metadata": {},
   "outputs": [],
   "source": [
    "challenge = 'thirty days of python'\n",
    "print(challenge.title()) # Thirty Days Of Python"
   ]
  },
  {
   "cell_type": "markdown",
   "id": "d972d479",
   "metadata": {},
   "source": [
    "- swapcase(): Converts all uppercase characters to lowercase and all lowercase characters to uppercase characters"
   ]
  },
  {
   "cell_type": "code",
   "execution_count": null,
   "id": "d2b6a896",
   "metadata": {},
   "outputs": [],
   "source": [
    "challenge = 'thirty days of python'\n",
    "print(challenge.swapcase())   # THIRTY DAYS OF PYTHON\n",
    "challenge = 'Thirty Days Of Python'\n",
    "print(challenge.swapcase())  # tHIRTY dAYS oF pYTHON"
   ]
  },
  {
   "cell_type": "markdown",
   "id": "0f909d08",
   "metadata": {},
   "source": [
    "\n",
    "- startswith(): Checks if String Starts with the Specified String"
   ]
  },
  {
   "cell_type": "code",
   "execution_count": null,
   "id": "eaa4ab17",
   "metadata": {},
   "outputs": [],
   "source": [
    "challenge = 'thirty days of python'\n",
    "print(challenge.startswith('thirty')) # True\n",
    "\n",
    "challenge = '30 days of python'\n",
    "print(challenge.startswith('thirty')) # False"
   ]
  },
  {
   "cell_type": "markdown",
   "id": "469a5438",
   "metadata": {},
   "source": [
    "\n",
    "🌕 You are an extraordinary person and you have a remarkable potential. You have just completed day 3 challenges and you are four steps a head in to your way to greatness. Now do some exercises for your brain and muscles.\n",
    "\n"
   ]
  },
  {
   "cell_type": "code",
   "execution_count": null,
   "id": "710606b1",
   "metadata": {},
   "outputs": [],
   "source": []
  },
  {
   "cell_type": "code",
   "execution_count": null,
   "id": "70b2a6bd",
   "metadata": {},
   "outputs": [],
   "source": []
  },
  {
   "cell_type": "code",
   "execution_count": null,
   "id": "9064abf7",
   "metadata": {},
   "outputs": [],
   "source": []
  },
  {
   "cell_type": "code",
   "execution_count": null,
   "id": "88ce9c7d",
   "metadata": {},
   "outputs": [],
   "source": []
  }
 ],
 "metadata": {
  "kernelspec": {
   "display_name": "Python 3 (ipykernel)",
   "language": "python",
   "name": "python3"
  },
  "language_info": {
   "codemirror_mode": {
    "name": "ipython",
    "version": 3
   },
   "file_extension": ".py",
   "mimetype": "text/x-python",
   "name": "python",
   "nbconvert_exporter": "python",
   "pygments_lexer": "ipython3",
   "version": "3.10.9"
  }
 },
 "nbformat": 4,
 "nbformat_minor": 5
}
