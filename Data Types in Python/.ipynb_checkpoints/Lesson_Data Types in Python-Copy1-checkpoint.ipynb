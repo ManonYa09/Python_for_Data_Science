{
 "cells": [
  {
   "cell_type": "markdown",
   "id": "1c736a99",
   "metadata": {},
   "source": [
    "### Table of contents\n",
    "<a id=\"toc\"></a>\n",
    "- [Why is Programming Necessary for Data Science?](#why_prgramming_neccesary_for_datascience?)\n",
    "- [Writing Your First Python Code](#writing_your_first_python_code)\n",
    "\n",
    "- [Data Types in Python](#data_types_in_python)\n",
    "    - [Number](#number)\n",
    "        - [Integer](#integer)\n",
    "        - [Float](#float)\n",
    "        - [Complex Number](#complex_number)"
   ]
  },
  {
   "cell_type": "markdown",
   "id": "4cfaa39f",
   "metadata": {},
   "source": [
    "<a id ='why_prgramming_neccesary_for_datascience?'></a> \n",
    "## Why is Programming Necessary for Data Science?"
   ]
  },
  {
   "cell_type": "code",
   "execution_count": 2,
   "id": "c8b0c05e",
   "metadata": {},
   "outputs": [
    {
     "data": {
      "text/plain": [
       "2"
      ]
     },
     "execution_count": 2,
     "metadata": {},
     "output_type": "execute_result"
    }
   ],
   "source": [
    "1+1"
   ]
  },
  {
   "cell_type": "code",
   "execution_count": null,
   "id": "c9df0103",
   "metadata": {},
   "outputs": [],
   "source": []
  },
  {
   "cell_type": "code",
   "execution_count": 3,
   "id": "6a6932d0",
   "metadata": {},
   "outputs": [
    {
     "data": {
      "text/plain": [
       "23217535536536626536"
      ]
     },
     "execution_count": 3,
     "metadata": {},
     "output_type": "execute_result"
    }
   ],
   "source": [
    "23214321412412412412+3214124124214124"
   ]
  },
  {
   "cell_type": "code",
   "execution_count": 4,
   "id": "bd18a30e",
   "metadata": {},
   "outputs": [
    {
     "data": {
      "text/plain": [
       "-32410102883"
      ]
     },
     "execution_count": 4,
     "metadata": {},
     "output_type": "execute_result"
    }
   ],
   "source": [
    "2332432-32412435315"
   ]
  },
  {
   "cell_type": "markdown",
   "id": "183e2e4f",
   "metadata": {},
   "source": [
    "<a id ='writing_your_first_python_code'></a> \n",
    "### Writing Your Frist Python Code"
   ]
  },
  {
   "cell_type": "markdown",
   "id": "91815589",
   "metadata": {},
   "source": [
    "The Python **print():** function takes in any number of parameters, and prints them out on line of text. "
   ]
  },
  {
   "cell_type": "markdown",
   "id": "469262ab",
   "metadata": {},
   "source": [
    "<hr/>\n",
    "<div class=\"alert alert-success alertsuccess\" style=\"margin-top: 20px\">\n",
    "[Tip]: To execute the Python code in the code cell below, click on the cell to select it and press <kbd>Shift</kbd> + <kbd>Enter</kbd>.\n",
    "</div>\n",
    "<hr/>"
   ]
  },
  {
   "cell_type": "code",
   "execution_count": 2,
   "id": "391524d4",
   "metadata": {},
   "outputs": [
    {
     "name": "stdout",
     "output_type": "stream",
     "text": [
      "Hello , World\n"
     ]
    }
   ],
   "source": [
    "print('Hello , World')"
   ]
  },
  {
   "cell_type": "code",
   "execution_count": 3,
   "id": "95aa2499",
   "metadata": {},
   "outputs": [
    {
     "name": "stdout",
     "output_type": "stream",
     "text": [
      "Wecome to Python\n"
     ]
    }
   ],
   "source": [
    "print('Wecome to Python')"
   ]
  },
  {
   "cell_type": "code",
   "execution_count": 4,
   "id": "ad702fa7",
   "metadata": {},
   "outputs": [
    {
     "name": "stdout",
     "output_type": "stream",
     "text": [
      "Happy Learning Python\n"
     ]
    }
   ],
   "source": [
    "print('Happy Learning Python')"
   ]
  },
  {
   "cell_type": "code",
   "execution_count": 5,
   "id": "cffce24b",
   "metadata": {},
   "outputs": [
    {
     "name": "stdout",
     "output_type": "stream",
     "text": [
      "Happy Learning Python\n"
     ]
    }
   ],
   "source": [
    "print(\"Happy Learning Python\")"
   ]
  },
  {
   "cell_type": "code",
   "execution_count": 6,
   "id": "9232049b",
   "metadata": {},
   "outputs": [
    {
     "name": "stdout",
     "output_type": "stream",
     "text": [
      "Happy Learning Python \n",
      " \n",
      " Happy Learning Python\n",
      "Happy Learning Python\n"
     ]
    }
   ],
   "source": [
    "print('Happy Learning Python \\n \\n Happy Learning Python')\n",
    "print(\"Happy Learning Python\")"
   ]
  },
  {
   "cell_type": "code",
   "execution_count": 7,
   "id": "766204b0",
   "metadata": {},
   "outputs": [
    {
     "ename": "SyntaxError",
     "evalue": "unterminated string literal (detected at line 1) (2367114396.py, line 1)",
     "output_type": "error",
     "traceback": [
      "\u001b[1;36m  Cell \u001b[1;32mIn[7], line 1\u001b[1;36m\u001b[0m\n\u001b[1;33m    print('Happy learning python\u001b[0m\n\u001b[1;37m          ^\u001b[0m\n\u001b[1;31mSyntaxError\u001b[0m\u001b[1;31m:\u001b[0m unterminated string literal (detected at line 1)\n"
     ]
    }
   ],
   "source": [
    "print('Happy learning python\n",
    "\n",
    "Happy learning Python \n",
    "      ')\n",
    "## Take a look at the errors in this Python code."
   ]
  },
  {
   "cell_type": "code",
   "execution_count": null,
   "id": "52eef291",
   "metadata": {},
   "outputs": [],
   "source": [
    "# Print string and error to see the running order\n",
    "\n",
    "print(\"This will be printed\")\n",
    "frint(\"This will cause an error\")\n",
    "print(\"This will NOT be printed\")"
   ]
  },
  {
   "cell_type": "markdown",
   "id": "276ff55f",
   "metadata": {},
   "source": [
    "### Data Types in Python\n",
    "<a id= 'data_types_in_python'><a/>"
   ]
  },
  {
   "cell_type": "markdown",
   "id": "a9de877f",
   "metadata": {},
   "source": [
    "Python has the following data types built-in by default\n",
    "```python\n",
    "- Text Type:str\n",
    "- Numeric Types: int, float, complex\n",
    "- Sequence Types: list, tuple, range\n",
    "- Mapping Type: dict\n",
    "- Set Types: set, frozenset\n",
    "- Boolean Type: bool\n",
    "- Binary Types: bytes, bytearray, memoryview\n",
    "- None Type: NoneType\n",
    "```\n"
   ]
  },
  {
   "cell_type": "markdown",
   "id": "36e83881",
   "metadata": {},
   "source": [
    "Take your time to look at the example about `data types` in Python below:"
   ]
  },
  {
   "cell_type": "code",
   "execution_count": 3,
   "id": "bcf41261",
   "metadata": {},
   "outputs": [],
   "source": [
    "# Different python data types\n",
    "# Let's declare variables with various data types\n",
    "\n",
    "first_name = \"Manon\"        # str\n",
    "last_name = 'Ya'            # str\n",
    "country = 'Cambodia'        # str\n",
    "city= 'Phnom Penh'          # str\n",
    "age = 250                   # int, it is not my real age, don't worry about it\n"
   ]
  },
  {
   "cell_type": "code",
   "execution_count": 4,
   "id": "0cf5e6d2",
   "metadata": {},
   "outputs": [
    {
     "name": "stdout",
     "output_type": "stream",
     "text": [
      "<class 'str'>\n",
      "<class 'str'>\n",
      "<class 'int'>\n",
      "<class 'float'>\n",
      "<class 'complex'>\n",
      "<class 'bool'>\n",
      "<class 'list'>\n"
     ]
    }
   ],
   "source": [
    "# Printing out types\n",
    "print(type('Manon'))     # str\n",
    "print(type(first_name))     # str\n",
    "print(type(10))             # int\n",
    "print(type(3.14))           # float\n",
    "print(type(1 + 1j))         # complex\n",
    "print(type(True))           # bool\n",
    "print(type([1, 2, 3, 4]))     # list"
   ]
  },
  {
   "cell_type": "code",
   "execution_count": 5,
   "id": "e196b7aa",
   "metadata": {},
   "outputs": [
    {
     "name": "stdout",
     "output_type": "stream",
     "text": [
      "<class 'dict'>\n",
      "<class 'tuple'>\n",
      "<class 'zip'>\n"
     ]
    }
   ],
   "source": [
    "print(type({'name':'Manon','age':250, 'is_married':250}))       # dict\n",
    "print(type((1,2)))                                              # tuple\n",
    "print(type(zip([1,2],[3,4])))   "
   ]
  },
  {
   "cell_type": "markdown",
   "id": "c84e1b79",
   "metadata": {},
   "source": [
    "#### Integer\n",
    "<a id='integer'></a>"
   ]
  },
  {
   "cell_type": "code",
   "execution_count": 6,
   "id": "14f853b2",
   "metadata": {},
   "outputs": [
    {
     "data": {
      "text/plain": [
       "34"
      ]
     },
     "execution_count": 6,
     "metadata": {},
     "output_type": "execute_result"
    }
   ],
   "source": [
    "34"
   ]
  },
  {
   "cell_type": "code",
   "execution_count": 7,
   "id": "68ff41f2",
   "metadata": {},
   "outputs": [
    {
     "data": {
      "text/plain": [
       "56"
      ]
     },
     "execution_count": 7,
     "metadata": {},
     "output_type": "execute_result"
    }
   ],
   "source": [
    "56"
   ]
  },
  {
   "cell_type": "code",
   "execution_count": 8,
   "id": "32bc0e9a",
   "metadata": {},
   "outputs": [
    {
     "data": {
      "text/plain": [
       "-2"
      ]
     },
     "execution_count": 8,
     "metadata": {},
     "output_type": "execute_result"
    }
   ],
   "source": [
    "-2"
   ]
  },
  {
   "cell_type": "code",
   "execution_count": 9,
   "id": "1afa9f88",
   "metadata": {},
   "outputs": [
    {
     "data": {
      "text/plain": [
       "-4"
      ]
     },
     "execution_count": 9,
     "metadata": {},
     "output_type": "execute_result"
    }
   ],
   "source": [
    "-4"
   ]
  },
  {
   "cell_type": "code",
   "execution_count": 10,
   "id": "4bc1eb81",
   "metadata": {},
   "outputs": [
    {
     "data": {
      "text/plain": [
       "int"
      ]
     },
     "execution_count": 10,
     "metadata": {},
     "output_type": "execute_result"
    }
   ],
   "source": [
    "### Check integer types\n",
    "type(34)"
   ]
  },
  {
   "cell_type": "code",
   "execution_count": 11,
   "id": "dd49012b",
   "metadata": {},
   "outputs": [
    {
     "data": {
      "text/plain": [
       "int"
      ]
     },
     "execution_count": 11,
     "metadata": {},
     "output_type": "execute_result"
    }
   ],
   "source": [
    "type(56)"
   ]
  },
  {
   "cell_type": "code",
   "execution_count": 13,
   "id": "c64886c9",
   "metadata": {},
   "outputs": [
    {
     "data": {
      "text/plain": [
       "int"
      ]
     },
     "execution_count": 13,
     "metadata": {},
     "output_type": "execute_result"
    }
   ],
   "source": [
    "type(-2)"
   ]
  },
  {
   "cell_type": "code",
   "execution_count": 14,
   "id": "643d991b",
   "metadata": {},
   "outputs": [
    {
     "name": "stdout",
     "output_type": "stream",
     "text": [
      "<class 'int'>\n",
      "<class 'int'>\n",
      "<class 'int'>\n"
     ]
    }
   ],
   "source": [
    "print(type(34))\n",
    "print(type(56))\n",
    "print(type(-2))"
   ]
  },
  {
   "cell_type": "markdown",
   "id": "d6ec1bfe",
   "metadata": {},
   "source": [
    "#### Float\n",
    "<a id ='float'></a>"
   ]
  },
  {
   "cell_type": "code",
   "execution_count": 15,
   "id": "afb1fb0f",
   "metadata": {},
   "outputs": [
    {
     "data": {
      "text/plain": [
       "45.0"
      ]
     },
     "execution_count": 15,
     "metadata": {},
     "output_type": "execute_result"
    }
   ],
   "source": [
    "45.0"
   ]
  },
  {
   "cell_type": "code",
   "execution_count": 16,
   "id": "0a987241",
   "metadata": {},
   "outputs": [
    {
     "data": {
      "text/plain": [
       "34.2"
      ]
     },
     "execution_count": 16,
     "metadata": {},
     "output_type": "execute_result"
    }
   ],
   "source": [
    "34.2"
   ]
  },
  {
   "cell_type": "code",
   "execution_count": 17,
   "id": "cb09aa0f",
   "metadata": {},
   "outputs": [
    {
     "data": {
      "text/plain": [
       "23.001"
      ]
     },
     "execution_count": 17,
     "metadata": {},
     "output_type": "execute_result"
    }
   ],
   "source": [
    "23.001"
   ]
  },
  {
   "cell_type": "code",
   "execution_count": 18,
   "id": "7945abe3",
   "metadata": {},
   "outputs": [
    {
     "data": {
      "text/plain": [
       "float"
      ]
     },
     "execution_count": 18,
     "metadata": {},
     "output_type": "execute_result"
    }
   ],
   "source": [
    "## Check Float types\n",
    "type(45.0)\n"
   ]
  },
  {
   "cell_type": "code",
   "execution_count": 19,
   "id": "7993a4ae",
   "metadata": {},
   "outputs": [
    {
     "data": {
      "text/plain": [
       "float"
      ]
     },
     "execution_count": 19,
     "metadata": {},
     "output_type": "execute_result"
    }
   ],
   "source": [
    "type(34.2)"
   ]
  },
  {
   "cell_type": "code",
   "execution_count": 21,
   "id": "84125911",
   "metadata": {},
   "outputs": [
    {
     "name": "stdout",
     "output_type": "stream",
     "text": [
      "<class 'float'>\n"
     ]
    }
   ],
   "source": [
    "## use print function\n",
    "print(type(45.0))"
   ]
  },
  {
   "cell_type": "code",
   "execution_count": 22,
   "id": "c8560b7d",
   "metadata": {},
   "outputs": [
    {
     "name": "stdout",
     "output_type": "stream",
     "text": [
      "<class 'float'>\n"
     ]
    }
   ],
   "source": [
    "print(type(34.2))"
   ]
  },
  {
   "cell_type": "markdown",
   "id": "9a3d1401",
   "metadata": {},
   "source": [
    "### Complex number\n",
    "<a id='complex Number'></a>"
   ]
  },
  {
   "cell_type": "code",
   "execution_count": 23,
   "id": "ac98e26e",
   "metadata": {},
   "outputs": [
    {
     "data": {
      "text/plain": [
       "(1-3j)"
      ]
     },
     "execution_count": 23,
     "metadata": {},
     "output_type": "execute_result"
    }
   ],
   "source": [
    "1-3j"
   ]
  },
  {
   "cell_type": "code",
   "execution_count": 24,
   "id": "75e2c315",
   "metadata": {},
   "outputs": [
    {
     "data": {
      "text/plain": [
       "(3+2j)"
      ]
     },
     "execution_count": 24,
     "metadata": {},
     "output_type": "execute_result"
    }
   ],
   "source": [
    "3+2j"
   ]
  },
  {
   "cell_type": "code",
   "execution_count": 26,
   "id": "92ad0259",
   "metadata": {},
   "outputs": [
    {
     "data": {
      "text/plain": [
       "2j"
      ]
     },
     "execution_count": 26,
     "metadata": {},
     "output_type": "execute_result"
    }
   ],
   "source": [
    "2j"
   ]
  },
  {
   "cell_type": "markdown",
   "id": "1f97c6d6",
   "metadata": {},
   "source": [
    "Take your time to use the `type()` function to check complex number types above."
   ]
  }
 ],
 "metadata": {
  "kernelspec": {
   "display_name": "Python 3 (ipykernel)",
   "language": "python",
   "name": "python3"
  },
  "language_info": {
   "codemirror_mode": {
    "name": "ipython",
    "version": 3
   },
   "file_extension": ".py",
   "mimetype": "text/x-python",
   "name": "python",
   "nbconvert_exporter": "python",
   "pygments_lexer": "ipython3",
   "version": "3.10.9"
  }
 },
 "nbformat": 4,
 "nbformat_minor": 5
}
