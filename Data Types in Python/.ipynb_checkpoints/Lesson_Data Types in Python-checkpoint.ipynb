{
 "cells": [
  {
   "cell_type": "markdown",
   "id": "1c736a99",
   "metadata": {},
   "source": [
    "### Table of contents\n",
    "<a id=\"toc\"></a>\n",
    "- [Writing Your First Python Code](#writing_your_first_python_code)\n",
    "- [Data Types in Python](#data_types_in_python)\n",
    "    - [Break and Continue - Part 1](#break-and-continue---part-1)\n",
    "    - [For Loop](#for-loop)\n",
    "    - [Break and Continue - Part 2](#break-and-continue---part-2)\n",
    "    - [The Range Function](#the-range-function)\n",
    "    - [Nested For Loop](#nested-for-loop)\n",
    "    - [For Else](#for-else)\n",
    "    - [Pass](#pass)"
   ]
  },
  {
   "cell_type": "markdown",
   "id": "183e2e4f",
   "metadata": {},
   "source": [
    "<a id ='writing_your_first_python_code'></a> \n",
    "### Writing Your Frist Python Code"
   ]
  },
  {
   "cell_type": "markdown",
   "id": "91815589",
   "metadata": {},
   "source": [
    "The Python **print():** function takes in any number of parameters, and prints them out on line of text. "
   ]
  },
  {
   "cell_type": "markdown",
   "id": "469262ab",
   "metadata": {},
   "source": [
    "<hr/>\n",
    "<div class=\"alert alert-success alertsuccess\" style=\"margin-top: 20px\">\n",
    "[Tip]: To execute the Python code in the code cell below, click on the cell to select it and press <kbd>Shift</kbd> + <kbd>Enter</kbd>.\n",
    "</div>\n",
    "<hr/>"
   ]
  },
  {
   "cell_type": "code",
   "execution_count": 2,
   "id": "391524d4",
   "metadata": {},
   "outputs": [
    {
     "name": "stdout",
     "output_type": "stream",
     "text": [
      "Hello , World\n"
     ]
    }
   ],
   "source": [
    "print('Hello , World')"
   ]
  },
  {
   "cell_type": "code",
   "execution_count": 3,
   "id": "95aa2499",
   "metadata": {},
   "outputs": [
    {
     "name": "stdout",
     "output_type": "stream",
     "text": [
      "Wecome to Python\n"
     ]
    }
   ],
   "source": [
    "print('Wecome to Python')"
   ]
  },
  {
   "cell_type": "code",
   "execution_count": 4,
   "id": "ad702fa7",
   "metadata": {},
   "outputs": [
    {
     "name": "stdout",
     "output_type": "stream",
     "text": [
      "Happy Learning Python\n"
     ]
    }
   ],
   "source": [
    "print('Happy Learning Python')"
   ]
  },
  {
   "cell_type": "code",
   "execution_count": 5,
   "id": "cffce24b",
   "metadata": {},
   "outputs": [
    {
     "name": "stdout",
     "output_type": "stream",
     "text": [
      "Happy Learning Python\n"
     ]
    }
   ],
   "source": [
    "print(\"Happy Learning Python\")"
   ]
  },
  {
   "cell_type": "code",
   "execution_count": 6,
   "id": "9232049b",
   "metadata": {},
   "outputs": [
    {
     "name": "stdout",
     "output_type": "stream",
     "text": [
      "Happy Learning Python \n",
      " \n",
      " Happy Learning Python\n",
      "Happy Learning Python\n"
     ]
    }
   ],
   "source": [
    "print('Happy Learning Python \\n \\n Happy Learning Python')\n",
    "print(\"Happy Learning Python\")"
   ]
  },
  {
   "cell_type": "code",
   "execution_count": 7,
   "id": "766204b0",
   "metadata": {},
   "outputs": [
    {
     "ename": "SyntaxError",
     "evalue": "unterminated string literal (detected at line 1) (2367114396.py, line 1)",
     "output_type": "error",
     "traceback": [
      "\u001b[1;36m  Cell \u001b[1;32mIn[7], line 1\u001b[1;36m\u001b[0m\n\u001b[1;33m    print('Happy learning python\u001b[0m\n\u001b[1;37m          ^\u001b[0m\n\u001b[1;31mSyntaxError\u001b[0m\u001b[1;31m:\u001b[0m unterminated string literal (detected at line 1)\n"
     ]
    }
   ],
   "source": [
    "print('Happy learning python\n",
    "\n",
    "Happy learning Python \n",
    "      ')\n",
    "## Take a look at the errors in this Python code."
   ]
  },
  {
   "cell_type": "code",
   "execution_count": null,
   "id": "52eef291",
   "metadata": {},
   "outputs": [],
   "source": [
    "# Print string and error to see the running order\n",
    "\n",
    "print(\"This will be printed\")\n",
    "frint(\"This will cause an error\")\n",
    "print(\"This will NOT be printed\")"
   ]
  },
  {
   "cell_type": "markdown",
   "id": "09e009dd",
   "metadata": {},
   "source": [
    "### Data Types in Python\n",
    "<a id= 'data_types_in_python'><a/>"
   ]
  },
  {
   "cell_type": "markdown",
   "id": "5d771087",
   "metadata": {},
   "source": [
    "Python has the following data types built-in by default\n",
    "```python\n",
    "- Text Type:str\n",
    "- Numeric Types: int, float, complex\n",
    "- Sequence Types: list, tuple, range\n",
    "- Mapping Type: dict\n",
    "- Set Types: set, frozenset\n",
    "- Boolean Type: bool\n",
    "- Binary Types: bytes, bytearray, memoryview\n",
    "- None Type: NoneType\n",
    "```\n"
   ]
  },
  {
   "cell_type": "code",
   "execution_count": null,
   "id": "d4e8d159",
   "metadata": {},
   "outputs": [],
   "source": []
  }
 ],
 "metadata": {
  "kernelspec": {
   "display_name": "Python 3 (ipykernel)",
   "language": "python",
   "name": "python3"
  },
  "language_info": {
   "codemirror_mode": {
    "name": "ipython",
    "version": 3
   },
   "file_extension": ".py",
   "mimetype": "text/x-python",
   "name": "python",
   "nbconvert_exporter": "python",
   "pygments_lexer": "ipython3",
   "version": "3.10.9"
  }
 },
 "nbformat": 4,
 "nbformat_minor": 5
}
