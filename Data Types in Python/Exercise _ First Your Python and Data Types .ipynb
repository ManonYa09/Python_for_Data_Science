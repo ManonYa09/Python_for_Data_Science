{
 "cells": [
  {
   "cell_type": "markdown",
   "id": "354d56de",
   "metadata": {},
   "source": [
    "1. What is the Types of the following: 0<br>\n",
    "    - int\n",
    "    - float\n"
   ]
  },
  {
   "cell_type": "markdown",
   "id": "c2abe0b1",
   "metadata": {},
   "source": [
    "2. What is the type of the following number 3.1222<br>\n",
    "    - int \n",
    "    - float\n",
    "    "
   ]
  },
  {
   "cell_type": "markdown",
   "id": "266d4900",
   "metadata": {},
   "source": [
    "3. What is the result of the following: int(3.99)\n",
    "    - 3\n",
    "    - 3.99"
   ]
  },
  {
   "cell_type": "markdown",
   "id": "e29ee609",
   "metadata": {},
   "source": [
    "4. Python is a low-Level programming language\n",
    "    - True\n",
    "    - False"
   ]
  },
  {
   "cell_type": "markdown",
   "id": "25122250",
   "metadata": {},
   "source": [
    "5. Variables can only store values of numberic data Types.\n",
    "    - True \n",
    "    - False"
   ]
  },
  {
   "cell_type": "code",
   "execution_count": null,
   "id": "2176a94d",
   "metadata": {},
   "outputs": [],
   "source": [
    "6 Which data type represents numbers that contain de"
   ]
  }
 ],
 "metadata": {
  "kernelspec": {
   "display_name": "Python 3 (ipykernel)",
   "language": "python",
   "name": "python3"
  },
  "language_info": {
   "codemirror_mode": {
    "name": "ipython",
    "version": 3
   },
   "file_extension": ".py",
   "mimetype": "text/x-python",
   "name": "python",
   "nbconvert_exporter": "python",
   "pygments_lexer": "ipython3",
   "version": "3.10.9"
  }
 },
 "nbformat": 4,
 "nbformat_minor": 5
}
