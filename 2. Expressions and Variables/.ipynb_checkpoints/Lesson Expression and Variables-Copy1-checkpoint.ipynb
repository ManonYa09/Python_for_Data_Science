{
 "cells": [
  {
   "cell_type": "markdown",
   "id": "d15271d5",
   "metadata": {},
   "source": [
    "### Recall"
   ]
  },
  {
   "cell_type": "markdown",
   "id": "90b9f51d",
   "metadata": {},
   "source": [
    "1. `Integer`: It is a whole number, without a fraction. For example, 1, 7, and 342 are all integers.\n",
    "\n",
    "2. `Float`: It is a real number that can contain a fractional part. For example, 5.3, 3.14159, and 6.0 are all floats.\n",
    "\n",
    "3. `String`: Text in between quotes -- either single or double quotes -- is a string. For example, 'ABC', \"Coding\", 'Python Program'\n",
    "\n",
    "4. `Boolean`: It represents one of two values: True or False.\n",
    "\n",
    "5. `None`: It is used to define a null variable."
   ]
  },
  {
   "cell_type": "markdown",
   "id": "2279e4f4",
   "metadata": {},
   "source": [
    "You can always check the data type of any variable using the `type()` function. The below example shows how to use the type function in python.\n",
    "```py\n",
    "print(type(10))\n",
    "print(type(10.5))\n",
    "print(type(\"abc\"))\n",
    "\n",
    "```"
   ]
  },
  {
   "cell_type": "code",
   "execution_count": 1,
   "id": "645ed8ee",
   "metadata": {},
   "outputs": [
    {
     "name": "stdout",
     "output_type": "stream",
     "text": [
      "<class 'int'>\n",
      "<class 'float'>\n",
      "<class 'str'>\n"
     ]
    }
   ],
   "source": [
    "print(type(10))\n",
    "print(type(10.5))\n",
    "print(type(\"abc\"))"
   ]
  },
  {
   "cell_type": "code",
   "execution_count": 2,
   "id": "91e0d085",
   "metadata": {},
   "outputs": [
    {
     "ename": "TypeError",
     "evalue": "type() takes 1 or 3 arguments",
     "output_type": "error",
     "traceback": [
      "\u001b[1;31m---------------------------------------------------------------------------\u001b[0m",
      "\u001b[1;31mTypeError\u001b[0m                                 Traceback (most recent call last)",
      "Cell \u001b[1;32mIn[2], line 1\u001b[0m\n\u001b[1;32m----> 1\u001b[0m \u001b[38;5;28;43mtype\u001b[39;49m\u001b[43m(\u001b[49m\u001b[43m)\u001b[49m\n",
      "\u001b[1;31mTypeError\u001b[0m: type() takes 1 or 3 arguments"
     ]
    }
   ],
   "source": [
    "type()"
   ]
  },
  {
   "cell_type": "code",
   "execution_count": null,
   "id": "eb974027",
   "metadata": {},
   "outputs": [],
   "source": [
    "sum\n",
    "max\n",
    "min"
   ]
  },
  {
   "cell_type": "markdown",
   "id": "d86f8a46",
   "metadata": {},
   "source": [
    "<hr/>\n",
    "<div class=\"alert alert-success alertsuccess\" style=\"margin-top: 20px\">\n",
    "[Tip]: To execute the Python code in the code cell below, click on the cell to select it and press <kbd>Shift</kbd> + <kbd>Enter</kbd>.\n",
    "</div>\n",
    "<hr/>"
   ]
  },
  {
   "cell_type": "markdown",
   "id": "7b7404e9",
   "metadata": {},
   "source": [
    "### Table of contents\n",
    "<a id=\"toc\"></a>\n",
    "- [Expression and Variables](#expression_and_varaibles)\n",
    "    - [Expression](#expression)\n",
    "    - [Variables](#variables)\n",
    "- [Data Types in Python](#data_types_in_python)\n",
    "    - [Number](#number)\n",
    "        - [Integer](#integer)\n",
    "        - [Float](#float)\n",
    "        - [Complex Number](#complex_number)"
   ]
  },
  {
   "cell_type": "code",
   "execution_count": null,
   "id": "c1d4f52a",
   "metadata": {},
   "outputs": [],
   "source": []
  },
  {
   "cell_type": "markdown",
   "id": "cd69a425",
   "metadata": {},
   "source": [
    "### Expression and Variables\n",
    "#### Expressions\n",
    "\n",
    "<p>Expressions in Python can include operations among compatible types (e.g., integers and floats). For example, basic arithmetic operations like adding multiple numbers:</p>\n",
    "\n"
   ]
  },
  {
   "cell_type": "markdown",
   "id": "71099512",
   "metadata": {},
   "source": [
    "#### Python Arithmetic Operators\n",
    "- **+:** The addition operator\n",
    "\n",
    "- **-:** The minus operator.\n",
    "\n",
    "- **\\*:** The multiplication operator.\n",
    "\n",
    "- **/:** The division operator.\n",
    "\n",
    "- **\\**:** The exponentiation operator.\n",
    "\n",
    "- **%:** The modulus operator."
   ]
  },
  {
   "cell_type": "code",
   "execution_count": null,
   "id": "b673e99f",
   "metadata": {},
   "outputs": [],
   "source": [
    "45 + 34"
   ]
  },
  {
   "cell_type": "code",
   "execution_count": null,
   "id": "954af39a",
   "metadata": {},
   "outputs": [],
   "source": [
    "-3 + 2"
   ]
  },
  {
   "cell_type": "code",
   "execution_count": null,
   "id": "09b5f9cf",
   "metadata": {},
   "outputs": [],
   "source": [
    "3*3"
   ]
  },
  {
   "cell_type": "code",
   "execution_count": null,
   "id": "ce8970ab",
   "metadata": {},
   "outputs": [],
   "source": [
    "35454562248599752852856487528746*3842895484824723527423"
   ]
  },
  {
   "cell_type": "code",
   "execution_count": null,
   "id": "24786851",
   "metadata": {},
   "outputs": [],
   "source": [
    "2**3"
   ]
  },
  {
   "cell_type": "code",
   "execution_count": null,
   "id": "79236b0b",
   "metadata": {},
   "outputs": [],
   "source": [
    "2*2*2"
   ]
  },
  {
   "cell_type": "code",
   "execution_count": null,
   "id": "14ca7211",
   "metadata": {},
   "outputs": [],
   "source": [
    "35454562248599752852856487528746**2"
   ]
  },
  {
   "cell_type": "code",
   "execution_count": null,
   "id": "3a11889b",
   "metadata": {},
   "outputs": [],
   "source": [
    "35454562248599752852856487528746**38"
   ]
  },
  {
   "cell_type": "code",
   "execution_count": null,
   "id": "49d061be",
   "metadata": {},
   "outputs": [],
   "source": [
    "(35559393-44555)*335555-3455/345558"
   ]
  },
  {
   "cell_type": "code",
   "execution_count": null,
   "id": "71c81303",
   "metadata": {},
   "outputs": [],
   "source": [
    "9%2"
   ]
  },
  {
   "cell_type": "code",
   "execution_count": null,
   "id": "e7735903",
   "metadata": {},
   "outputs": [],
   "source": [
    "1/2 * 8 -4 -1/2 * 3"
   ]
  },
  {
   "cell_type": "code",
   "execution_count": null,
   "id": "71c4627c",
   "metadata": {},
   "outputs": [],
   "source": [
    "9/2"
   ]
  },
  {
   "cell_type": "code",
   "execution_count": null,
   "id": "e8d6c21b",
   "metadata": {},
   "outputs": [],
   "source": [
    "(25)**(1/2)"
   ]
  },
  {
   "cell_type": "code",
   "execution_count": null,
   "id": "2065316e",
   "metadata": {},
   "outputs": [],
   "source": [
    "3**(1/3)"
   ]
  },
  {
   "cell_type": "code",
   "execution_count": null,
   "id": "f7ccd77a",
   "metadata": {},
   "outputs": [],
   "source": [
    "(64)**(1/3)"
   ]
  },
  {
   "cell_type": "code",
   "execution_count": null,
   "id": "3ad6dd79",
   "metadata": {},
   "outputs": [],
   "source": [
    "print('Addition: ', 1 + 2)\n",
    "print('Subtraction: ', 2 - 1)\n"
   ]
  },
  {
   "cell_type": "code",
   "execution_count": null,
   "id": "bea6a1e4",
   "metadata": {},
   "outputs": [],
   "source": [
    "# Arithmetic Operations in Python\n",
    "# Integers\n",
    "\n",
    "print('Addition: ', 1 + 2)        # 3\n",
    "print('Subtraction: ', 2 - 1)     # 1\n",
    "print('Multiplication: ', 2 * 3)  # 6\n",
    "print ('Division: ', 4 / 2)       # 2.0  Division in Python gives floating number\n",
    "print('Division: ', 6 / 2)        # 3.0         \n",
    "print('Division: ', 7 / 2)        # 3.5\n",
    "print('Division without the remainder: ', 7 // 2)   # 3,  gives without the floating number or without the remaining\n",
    "print ('Division without the remainder: ',7 // 3)   # 2\n",
    "print('Modulus: ', 3 % 2)         # 1, Gives the remainder\n",
    "print('Exponentiation: ', 2 ** 3) # 9 it means 2 * 2 * 2"
   ]
  },
  {
   "cell_type": "markdown",
   "id": "62bfeba6",
   "metadata": {},
   "source": [
    "### Variable\n",
    "**Python Variable:** is contrainers that store value. Python is not **Statically typed**.\\\n",
    "We do not need to declare variables before using them or declare their type.\n"
   ]
  },
  {
   "cell_type": "markdown",
   "id": "9defea9c",
   "metadata": {},
   "source": [
    "Python Variable Name Rules\n",
    "\n",
    "- A variable name must start with a letter or the underscore character\n",
    "- A variable name cannot start with a number\n",
    "- A variable name can only contain alpha-numeric characters and underscores (A-z, 0-9, and _ )\n",
    "- Variable names are case-sensitive (firstname, Firstname, FirstName and FIRSTNAME) are different variables)\n",
    "\n",
    "Here are some example of valid variable names:"
   ]
  },
  {
   "cell_type": "code",
   "execution_count": null,
   "id": "9ba84742",
   "metadata": {},
   "outputs": [],
   "source": [
    "firstname\n",
    "lastname\n",
    "age\n",
    "country\n",
    "city\n",
    "first_name\n",
    "last_name\n",
    "capital_city\n",
    "_if # if we want to use reserved word as a variable\n",
    "year_2021\n",
    "year2021\n",
    "current_year_2021\n",
    "birth_year\n",
    "num1\n",
    "num2"
   ]
  },
  {
   "cell_type": "code",
   "execution_count": null,
   "id": "eec005dc",
   "metadata": {},
   "outputs": [],
   "source": [
    "##Invalid variables names\n",
    "first-name\n",
    "first@name\n",
    "first$name\n",
    "num-1\n",
    "1num"
   ]
  },
  {
   "cell_type": "code",
   "execution_count": null,
   "id": "3c4a30b5",
   "metadata": {},
   "outputs": [],
   "source": [
    "age = 16"
   ]
  },
  {
   "cell_type": "code",
   "execution_count": null,
   "id": "605c84c3",
   "metadata": {},
   "outputs": [],
   "source": [
    "age"
   ]
  },
  {
   "cell_type": "code",
   "execution_count": null,
   "id": "4a9c201f",
   "metadata": {},
   "outputs": [],
   "source": [
    "age = 4\n",
    "age"
   ]
  },
  {
   "cell_type": "code",
   "execution_count": null,
   "id": "bcf0189a",
   "metadata": {},
   "outputs": [],
   "source": [
    "age"
   ]
  },
  {
   "cell_type": "code",
   "execution_count": null,
   "id": "15bfdeb4",
   "metadata": {},
   "outputs": [],
   "source": [
    "a"
   ]
  },
  {
   "cell_type": "code",
   "execution_count": null,
   "id": "817c8a12",
   "metadata": {},
   "outputs": [],
   "source": [
    "a = 6"
   ]
  },
  {
   "cell_type": "code",
   "execution_count": null,
   "id": "7a42e083",
   "metadata": {},
   "outputs": [],
   "source": [
    "a"
   ]
  },
  {
   "cell_type": "code",
   "execution_count": null,
   "id": "f1eb6677",
   "metadata": {},
   "outputs": [],
   "source": [
    "a= -6\n",
    "b = -4"
   ]
  },
  {
   "cell_type": "code",
   "execution_count": null,
   "id": "6c9a2ec9",
   "metadata": {},
   "outputs": [],
   "source": [
    "- a - b"
   ]
  },
  {
   "cell_type": "code",
   "execution_count": null,
   "id": "8580a74b",
   "metadata": {},
   "outputs": [],
   "source": [
    "a*b"
   ]
  },
  {
   "cell_type": "code",
   "execution_count": null,
   "id": "f8220f96",
   "metadata": {},
   "outputs": [],
   "source": [
    "a = 3432894278524\n",
    "b =  4348934574847832235.34293275872343"
   ]
  },
  {
   "cell_type": "code",
   "execution_count": null,
   "id": "08a549dd",
   "metadata": {},
   "outputs": [],
   "source": [
    "a"
   ]
  },
  {
   "cell_type": "code",
   "execution_count": 3,
   "id": "4c589582",
   "metadata": {},
   "outputs": [
    {
     "name": "stdout",
     "output_type": "stream",
     "text": [
      "Manon Ya Phnom Penh 25 False\n",
      "First name: Manon\n",
      "Last name:  Ya\n",
      "Country:  Phnom Penh\n",
      "Age:  25\n",
      "Married:  False\n"
     ]
    }
   ],
   "source": [
    "first_name, last_name, country, age, is_married = 'Manon', 'Ya', 'Phnom Penh', 25, False\n",
    "\n",
    "print(first_name, last_name, country, age, is_married)\n",
    "print('First name:', first_name)\n",
    "print('Last name: ', last_name)\n",
    "print('Country: ', country)\n",
    "print('Age: ', age)\n",
    "print('Married: ', is_married)"
   ]
  },
  {
   "cell_type": "code",
   "execution_count": 4,
   "id": "04c2e6f2",
   "metadata": {},
   "outputs": [
    {
     "name": "stdout",
     "output_type": "stream",
     "text": [
      "First name: Manon\n"
     ]
    }
   ],
   "source": [
    "print('First name:', first_name)\n"
   ]
  },
  {
   "cell_type": "code",
   "execution_count": 5,
   "id": "c9ac8e57",
   "metadata": {},
   "outputs": [
    {
     "name": "stdout",
     "output_type": "stream",
     "text": [
      "Last name:  Ya\n"
     ]
    }
   ],
   "source": [
    "print('Last name: ', last_name)"
   ]
  },
  {
   "cell_type": "code",
   "execution_count": 6,
   "id": "6c0ec0e6",
   "metadata": {},
   "outputs": [
    {
     "name": "stdout",
     "output_type": "stream",
     "text": [
      "Country:  Phnom Penh\n"
     ]
    }
   ],
   "source": [
    "print('Country: ', country)\n"
   ]
  },
  {
   "cell_type": "code",
   "execution_count": 7,
   "id": "ae49495c",
   "metadata": {},
   "outputs": [
    {
     "name": "stdout",
     "output_type": "stream",
     "text": [
      "Age:  25\n"
     ]
    }
   ],
   "source": [
    "print('Age: ', age)\n"
   ]
  },
  {
   "cell_type": "code",
   "execution_count": 8,
   "id": "f2cfb674",
   "metadata": {},
   "outputs": [
    {
     "name": "stdout",
     "output_type": "stream",
     "text": [
      "Married:  False\n"
     ]
    }
   ],
   "source": [
    "print('Married: ', is_married)"
   ]
  },
  {
   "cell_type": "code",
   "execution_count": 14,
   "id": "bcc1f489",
   "metadata": {},
   "outputs": [
    {
     "data": {
      "text/plain": [
       "15"
      ]
     },
     "execution_count": 14,
     "metadata": {},
     "output_type": "execute_result"
    }
   ],
   "source": [
    "z"
   ]
  },
  {
   "cell_type": "code",
   "execution_count": 9,
   "id": "fa4afd9b",
   "metadata": {},
   "outputs": [
    {
     "ename": "NameError",
     "evalue": "name 'a' is not defined",
     "output_type": "error",
     "traceback": [
      "\u001b[1;31m---------------------------------------------------------------------------\u001b[0m",
      "\u001b[1;31mNameError\u001b[0m                                 Traceback (most recent call last)",
      "Cell \u001b[1;32mIn[9], line 1\u001b[0m\n\u001b[1;32m----> 1\u001b[0m \u001b[38;5;28mprint\u001b[39m(\u001b[38;5;124m'\u001b[39m\u001b[38;5;124mthis is: \u001b[39m\u001b[38;5;124m'\u001b[39m, \u001b[43ma\u001b[49m)\n",
      "\u001b[1;31mNameError\u001b[0m: name 'a' is not defined"
     ]
    }
   ],
   "source": [
    "print('this is: ', a)"
   ]
  },
  {
   "cell_type": "code",
   "execution_count": 10,
   "id": "ce260a69",
   "metadata": {},
   "outputs": [
    {
     "ename": "NameError",
     "evalue": "name 'b' is not defined",
     "output_type": "error",
     "traceback": [
      "\u001b[1;31m---------------------------------------------------------------------------\u001b[0m",
      "\u001b[1;31mNameError\u001b[0m                                 Traceback (most recent call last)",
      "Cell \u001b[1;32mIn[10], line 1\u001b[0m\n\u001b[1;32m----> 1\u001b[0m \u001b[38;5;28mprint\u001b[39m(\u001b[38;5;124m'\u001b[39m\u001b[38;5;124mThis is: \u001b[39m\u001b[38;5;124m'\u001b[39m, \u001b[43mb\u001b[49m)\n",
      "\u001b[1;31mNameError\u001b[0m: name 'b' is not defined"
     ]
    }
   ],
   "source": [
    "print('This is: ', b)"
   ]
  },
  {
   "cell_type": "code",
   "execution_count": 11,
   "id": "3048a717",
   "metadata": {},
   "outputs": [
    {
     "ename": "NameError",
     "evalue": "name 'a' is not defined",
     "output_type": "error",
     "traceback": [
      "\u001b[1;31m---------------------------------------------------------------------------\u001b[0m",
      "\u001b[1;31mNameError\u001b[0m                                 Traceback (most recent call last)",
      "Cell \u001b[1;32mIn[11], line 1\u001b[0m\n\u001b[1;32m----> 1\u001b[0m \u001b[38;5;28mprint\u001b[39m(\u001b[38;5;124m'\u001b[39m\u001b[38;5;124mthis is \u001b[39m\u001b[38;5;124m'\u001b[39m, \u001b[43ma\u001b[49m)\n\u001b[0;32m      2\u001b[0m \u001b[38;5;28mprint\u001b[39m(\u001b[38;5;124m'\u001b[39m\u001b[38;5;124mThis is \u001b[39m\u001b[38;5;124m'\u001b[39m, b)\n\u001b[0;32m      3\u001b[0m \u001b[38;5;28mprint\u001b[39m( \u001b[38;5;124m\"\u001b[39m\u001b[38;5;124mThis is (a- b)\u001b[39m\u001b[38;5;124m\"\u001b[39m, a\u001b[38;5;241m-\u001b[39mb)\n",
      "\u001b[1;31mNameError\u001b[0m: name 'a' is not defined"
     ]
    }
   ],
   "source": [
    "print('this is ', a)\n",
    "print('This is ', b)\n",
    "print( \"This is (a- b)\", a-b)\n",
    "print('this is (a * b)', a*b)\n",
    "print('this is (a+b)', a+ b)"
   ]
  },
  {
   "cell_type": "code",
   "execution_count": 12,
   "id": "09215b4a",
   "metadata": {},
   "outputs": [],
   "source": [
    "x = 5\n",
    "y = 10\n",
    "z = x + y"
   ]
  },
  {
   "cell_type": "code",
   "execution_count": 13,
   "id": "464132e0",
   "metadata": {},
   "outputs": [
    {
     "data": {
      "text/plain": [
       "15"
      ]
     },
     "execution_count": 13,
     "metadata": {},
     "output_type": "execute_result"
    }
   ],
   "source": [
    "z"
   ]
  },
  {
   "cell_type": "markdown",
   "id": "6fdace75",
   "metadata": {},
   "source": [
    "area = 0.5 * base * height"
   ]
  },
  {
   "cell_type": "code",
   "execution_count": null,
   "id": "bf8b1b88",
   "metadata": {},
   "outputs": [],
   "source": [
    "b = 3221412895713587483631513\n",
    "h = 314813956431\n",
    "area = 0.5 * b * h\n",
    "print('This is Area of Triangle ', area)"
   ]
  },
  {
   "cell_type": "code",
   "execution_count": null,
   "id": "704b7b4a",
   "metadata": {},
   "outputs": [],
   "source": [
    "name = 'Manon'\n",
    "age = 23\n",
    "print('My name is ', name);\n",
    "print('My age:', age)\n",
    "b"
   ]
  },
  {
   "cell_type": "code",
   "execution_count": null,
   "id": "41810c48",
   "metadata": {},
   "outputs": [],
   "source": [
    "print('My name is:', name, 'my age:', age)"
   ]
  },
  {
   "cell_type": "code",
   "execution_count": null,
   "id": "b6cb4c73",
   "metadata": {},
   "outputs": [],
   "source": [
    "# Declaring the variable at the top first\n",
    "\n",
    "a = 3 # a is a variable name and 3 is an integer data type\n",
    "b = 2 # b is a variable name and 3 is an integer data type\n",
    "\n",
    "# Arithmetic operations and assigning the result to a variable\n",
    "total = a + b\n",
    "diff = a - b\n",
    "product = a * b\n",
    "division = a / b\n",
    "remainder = a % b\n",
    "floor_division = a // b\n",
    "exponential = a ** b\n",
    "\n",
    "# I should have used sum instead of total but sum is a built-in function - try to avoid overriding built-in functions\n",
    "print(total) # if you do not label your print with some string, you never know where the result is coming from\n",
    "print('a + b = ', total)\n",
    "print('a - b = ', diff)\n",
    "print('a * b = ', product)\n",
    "print('a / b = ', division)\n",
    "print('a % b = ', remainder)\n",
    "print('a // b = ', floor_division)\n",
    "print('a ** b = ', exponential)"
   ]
  },
  {
   "cell_type": "code",
   "execution_count": null,
   "id": "01df4953",
   "metadata": {},
   "outputs": [],
   "source": [
    "print('== Addition, Subtraction, Multiplication, Division, Modulus ==')\n",
    "\n",
    "# Declaring values and organizing them together\n",
    "num_one = 3\n",
    "num_two = 4\n",
    "\n",
    "# Arithmetic operations\n",
    "total = num_one + num_two\n",
    "diff = num_two - num_one\n",
    "product = num_one * num_two\n",
    "div = num_two / num_one\n",
    "remainder = num_two % num_one\n",
    "\n",
    "# Printing values with label\n",
    "print('total: ', total)\n",
    "print('difference: ', diff)\n",
    "print('product: ', product)\n",
    "print('division: ', div)\n",
    "print('remainder: ', remainder)"
   ]
  },
  {
   "cell_type": "code",
   "execution_count": null,
   "id": "1314c145",
   "metadata": {},
   "outputs": [],
   "source": []
  }
 ],
 "metadata": {
  "kernelspec": {
   "display_name": "Python 3 (ipykernel)",
   "language": "python",
   "name": "python3"
  },
  "language_info": {
   "codemirror_mode": {
    "name": "ipython",
    "version": 3
   },
   "file_extension": ".py",
   "mimetype": "text/x-python",
   "name": "python",
   "nbconvert_exporter": "python",
   "pygments_lexer": "ipython3",
   "version": "3.10.9"
  }
 },
 "nbformat": 4,
 "nbformat_minor": 5
}
